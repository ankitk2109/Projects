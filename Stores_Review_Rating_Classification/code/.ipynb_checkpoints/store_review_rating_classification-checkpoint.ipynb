{
 "cells": [
  {
   "cell_type": "markdown",
   "metadata": {},
   "source": [
    "\n",
    "# SCRAPPING CONSUMER REVIEWS AND CLASSIFICATION\n",
    "\n",
    "Website to scrape review from: http://mlg.ucd.ie/modules/yalp/"
   ]
  },
  {
   "cell_type": "code",
   "execution_count": 2,
   "metadata": {},
   "outputs": [
    {
     "name": "stderr",
     "output_type": "stream",
     "text": [
      "C:\\Anaconda3\\lib\\site-packages\\statsmodels\\tools\\_testing.py:19: FutureWarning: pandas.util.testing is deprecated. Use the functions in the public API at pandas.testing instead.\n",
      "  import pandas.util.testing as tm\n"
     ]
    }
   ],
   "source": [
    "#Importing required libraries\n",
    "import os\n",
    "import requests\n",
    "import pandas as pd\n",
    "import seaborn as sn\n",
    "import matplotlib.pyplot as plt\n",
    "import warnings\n",
    "warnings.filterwarnings(\"ignore\")\n",
    "from bs4 import BeautifulSoup, SoupStrainer\n",
    "from nltk.stem import WordNetLemmatizer\n",
    "from sklearn.feature_extraction.text import TfidfVectorizer\n",
    "from sklearn.model_selection import train_test_split\n",
    "from sklearn.metrics import accuracy_score, confusion_matrix\n",
    "from sklearn.model_selection import cross_val_score, RepeatedKFold\n",
    "from sklearn.metrics import classification_report\n",
    "from sklearn.linear_model import LogisticRegression\n",
    "from sklearn.naive_bayes import GaussianNB\n",
    "from sklearn.ensemble import RandomForestClassifier"
   ]
  },
  {
   "cell_type": "markdown",
   "metadata": {},
   "source": [
    "### Task 1. \n",
    "\n",
    "__Selecting any three review categories. Scraping all reviews for each category and storing them as three separate datasets. For each review, we have stored the review text and a class label (i.e. whether the review is “positive” or “negative”).__"
   ]
  },
  {
   "cell_type": "markdown",
   "metadata": {},
   "source": [
    "__Selected Category:__\n",
    "    1. Automotive\n",
    "    2. Hotels\n",
    "    3. Restaurants\n",
    "    \n",
    "__a. Main category URL scraping__"
   ]
  },
  {
   "cell_type": "code",
   "execution_count": 3,
   "metadata": {
    "scrolled": false
   },
   "outputs": [
    {
     "name": "stdout",
     "output_type": "stream",
     "text": [
      "['http://mlg.ucd.ie/modules/yalp/automotive_list.html', 'http://mlg.ucd.ie/modules/yalp/hotels_list.html', 'http://mlg.ucd.ie/modules/yalp/restaurants_list.html']\n"
     ]
    }
   ],
   "source": [
    "#Base URL for the webpage\n",
    "base_url='http://mlg.ucd.ie/modules/yalp/'\n",
    "\n",
    "#Storing different categories\n",
    "categories_url_list = []\n",
    "\n",
    "base_data = requests.get(base_url)\n",
    "base_parser = BeautifulSoup(base_data.content,'html.parser')\n",
    "base_links = base_parser.find_all('a')\n",
    "\n",
    "for link in base_links:\n",
    "    #Taking only href tags\n",
    "    link = link.get('href')\n",
    "    if 'hotels' in link or 'automotive' in link or 'restaurants' in link:\n",
    "        categories_url_list.append(base_url+str(link))\n",
    "\n",
    "print(categories_url_list)"
   ]
  },
  {
   "cell_type": "markdown",
   "metadata": {},
   "source": [
    "__b. Methods defined to get review, review links and ratings__"
   ]
  },
  {
   "cell_type": "code",
   "execution_count": 9,
   "metadata": {
    "scrolled": false
   },
   "outputs": [],
   "source": [
    "#Return review links\n",
    "def get_review_links(hyperlinks):\n",
    "    reviews_url_list=[]\n",
    "    for link in hyperlinks:\n",
    "        #to avoid index hyperlink\n",
    "        if 'index' in link.get('href'):\n",
    "            pass\n",
    "        else:\n",
    "            reviews_url_list.append(base_url+ link.get('href'))\n",
    "    return(reviews_url_list)\n",
    "\n",
    "def get_reviews(review_with_tags):\n",
    "    reviews = []\n",
    "    for review in review_with_tags:\n",
    "        reviews.append(review.text)\n",
    "    #print(reviews)\n",
    "    return(reviews)\n",
    "\n",
    "def get_rating(rating_with_tags):\n",
    "    ratings = []\n",
    "    for rating in rating_with_tags:\n",
    "        if int(rating.get('alt')[0])<=3:\n",
    "            ratings.append('negative')\n",
    "        else:\n",
    "            ratings.append('positive')\n",
    "    return ratings"
   ]
  },
  {
   "cell_type": "markdown",
   "metadata": {},
   "source": [
    "__c. Scraping the individual category data and creating seperate csv file in localfile system.__"
   ]
  },
  {
   "cell_type": "code",
   "execution_count": 11,
   "metadata": {
    "scrolled": true
   },
   "outputs": [],
   "source": [
    "#Fetching review links on the page.\n",
    "df_idx=0\n",
    "\n",
    "#A list of different dataframes\n",
    "dataframe_list = [pd.DataFrame(), pd.DataFrame(), pd.DataFrame()]\n",
    "\n",
    "for category_url in categories_url_list:\n",
    "    page = requests.get(category_url)\n",
    "    parser = BeautifulSoup(page.content, 'html.parser')\n",
    "    hyperlinks = parser.find_all('a')\n",
    "    reviews_url = get_review_links(hyperlinks)\n",
    "    d = {}\n",
    "    \n",
    "    if 'automotive' in category_url:\n",
    "        name = 'automotive'\n",
    "    elif 'hotels' in category_url:\n",
    "        name = 'hotels'\n",
    "    else:\n",
    "        name = 'restaurants'\n",
    "        \n",
    "    for review_url in reviews_url:\n",
    "        pg = requests.get(review_url)\n",
    "        review_parser = BeautifulSoup(pg.content, 'html.parser')\n",
    "        #To extract a particular class inside a tag\n",
    "        review_with_tags = review_parser.find_all('p',{\"class\":\"review-text\"})\n",
    "        reviews = get_reviews(review_with_tags)\n",
    "\n",
    "        rating_with_tags = review_parser.find_all('img',alt=True)\n",
    "        ratings = get_rating(rating_with_tags)\n",
    "        d = {'Reviews': reviews,'Label':ratings}\n",
    "        dataframe_list[df_idx] = dataframe_list[df_idx].append(pd.DataFrame(d), ignore_index=True)\n",
    "        \n",
    "    dataframe_list[df_idx].to_csv('../collected_data/'+name+'.csv', index=False)\n",
    "    df_idx += 1"
   ]
  },
  {
   "cell_type": "markdown",
   "metadata": {},
   "source": [
    "### Task 2.\n",
    "\n",
    "__For each of the three category datasets:__"
   ]
  },
  {
   "cell_type": "markdown",
   "metadata": {},
   "source": [
    "__Loading the data into dataframes for ease of processing.__"
   ]
  },
  {
   "cell_type": "code",
   "execution_count": 18,
   "metadata": {},
   "outputs": [
    {
     "data": {
      "text/html": [
       "<div>\n",
       "<style scoped>\n",
       "    .dataframe tbody tr th:only-of-type {\n",
       "        vertical-align: middle;\n",
       "    }\n",
       "\n",
       "    .dataframe tbody tr th {\n",
       "        vertical-align: top;\n",
       "    }\n",
       "\n",
       "    .dataframe thead th {\n",
       "        text-align: right;\n",
       "    }\n",
       "</style>\n",
       "<table border=\"1\" class=\"dataframe\">\n",
       "  <thead>\n",
       "    <tr style=\"text-align: right;\">\n",
       "      <th></th>\n",
       "      <th>Reviews</th>\n",
       "      <th>Label</th>\n",
       "    </tr>\n",
       "  </thead>\n",
       "  <tbody>\n",
       "    <tr>\n",
       "      <th>0</th>\n",
       "      <td>The man that was working tonight (8-12-17) was...</td>\n",
       "      <td>negative</td>\n",
       "    </tr>\n",
       "    <tr>\n",
       "      <th>1</th>\n",
       "      <td>Chris is a very rude person. Gave me an attitu...</td>\n",
       "      <td>negative</td>\n",
       "    </tr>\n",
       "    <tr>\n",
       "      <th>2</th>\n",
       "      <td>One of my favorite gas station to stop at. The...</td>\n",
       "      <td>positive</td>\n",
       "    </tr>\n",
       "    <tr>\n",
       "      <th>3</th>\n",
       "      <td>Oh thank Heaven for Seven Eleven! I don't know...</td>\n",
       "      <td>negative</td>\n",
       "    </tr>\n",
       "    <tr>\n",
       "      <th>4</th>\n",
       "      <td>Five stars because of the guy who works weekda...</td>\n",
       "      <td>positive</td>\n",
       "    </tr>\n",
       "  </tbody>\n",
       "</table>\n",
       "</div>"
      ],
      "text/plain": [
       "                                             Reviews     Label\n",
       "0  The man that was working tonight (8-12-17) was...  negative\n",
       "1  Chris is a very rude person. Gave me an attitu...  negative\n",
       "2  One of my favorite gas station to stop at. The...  positive\n",
       "3  Oh thank Heaven for Seven Eleven! I don't know...  negative\n",
       "4  Five stars because of the guy who works weekda...  positive"
      ]
     },
     "execution_count": 18,
     "metadata": {},
     "output_type": "execute_result"
    }
   ],
   "source": [
    "#Reading all category files into dataframes for easy analysis\n",
    "\n",
    "#Creating a list of dataframe to store three categories\n",
    "category_list = [pd.DataFrame(),pd.DataFrame(),pd.DataFrame()]\n",
    "category_list_name = ['Automotive', 'Hotels', 'Restaurants']\n",
    "\n",
    "root = '..\\collected_data'\n",
    "i = 0 \n",
    "for root, directories, files in os.walk(root):\n",
    "    for file in files:\n",
    "        file_path = os.path.join(root,file)\n",
    "        category_list[i] = category_list[i].append(pd.read_csv(file_path),ignore_index=True)\n",
    "        i = i+1\n",
    "category_list[0].head()"
   ]
  },
  {
   "cell_type": "markdown",
   "metadata": {},
   "source": [
    "__a. From the reviews in this category, apply appropriate preprocessing steps to create a numeric representation of the data, suitable for classification.__"
   ]
  },
  {
   "cell_type": "markdown",
   "metadata": {},
   "source": [
    "__Pre-Processing:__\n",
    "\n",
    "Following pre-processing steps are used on the data:\n",
    "\n",
    "    1. Lemmatization\n",
    "    2. Stopword removal\n",
    "    3. Minimum document frequency\n",
    "    4. TF-IDF Vectorization"
   ]
  },
  {
   "cell_type": "markdown",
   "metadata": {},
   "source": [
    "__1. Lemmatization:__\n",
    "\n",
    "There are two popular approach for finding out the base form of a word:\n",
    "\n",
    "    i. Stemming \n",
    "    ii. Lemmatization\n",
    "    \n",
    "The goal of both stemming and lemmatization is to reduce inflectional forms and sometimes derivationally related forms of a word to a common base form.\n",
    "\n",
    "However, the two differ in their flavor. __Stemming__ usually refers to a crude heuristic process that chops off the ends of words in the hope of achieving this goal correctly most of the time, and often includes the removal of derivational affixes. __Lemmatization__ usually refers to doing things properly with the use of a vocabulary and morphological analysis of words, normally aiming to remove inflectional endings only and to return the base or dictionary form of a word, which is known as the lemma."
   ]
  },
  {
   "cell_type": "code",
   "execution_count": 19,
   "metadata": {},
   "outputs": [],
   "source": [
    "#Method for applying Lemmatization on reviews.\n",
    "def lemmatize_data(df):\n",
    "    lemmatizer = WordNetLemmatizer()\n",
    "    for i in range(len(df)):\n",
    "        df.loc[i,'Reviews'] = lemmatizer.lemmatize(df.loc[i,'Reviews'])\n",
    "    return df"
   ]
  },
  {
   "cell_type": "code",
   "execution_count": 20,
   "metadata": {},
   "outputs": [],
   "source": [
    "#Applying Lemmatization on reviews of all categories.\n",
    "for i in range(len(category_list)):\n",
    "    category_list[i] = lemmatize_data(category_list[i])"
   ]
  },
  {
   "cell_type": "code",
   "execution_count": 21,
   "metadata": {},
   "outputs": [],
   "source": [
    "#Seperating categories into seperate dataframes\n",
    "df_auto = pd.DataFrame()\n",
    "df_hotel = category_list[1]\n",
    "df_restaurant = category_list[2]"
   ]
  },
  {
   "cell_type": "markdown",
   "metadata": {},
   "source": [
    "__2. StopWord Removal:__\n",
    "\n",
    "Stop words are basically a set of commonly used words in any language. Determiners(the, an, a), Coordinating conjunctions(for, an, nor, but), Prepositions(in, under, towards, before) are majorly considered as stop words.\n",
    "\n",
    "Why to remove?\n",
    "    \n",
    "* They don't help us to find the context or the true meaning of a sentence. These are words can be removed without any negative consequences to the final model. Also removing these word decreases the dataset size as they are used very frequently and do not convey any meaning.\n",
    "\n",
    "\n",
    "\n",
    "__3. Minimum Document Frequency:__\n",
    "\n",
    "`min_df` is used for removing terms that appear too infrequently.\n",
    "\n",
    "* `min_df` = 0.01 means ignore terms that appear in less than 1% of the documents.\n",
    "\n",
    "* `min_df = 10` means ignore terms that appear in less than 10 documents.\n",
    "\n",
    "* The default `min_df is 1`, which means \"ignore terms that appear in less than 1 document\". Thus, the default setting does not ignore any terms.\n",
    "\n",
    "__4. TF-IDF Vectorization:__\n",
    "\n",
    "`Tf-idf` stands for term frequency-inverse document frequency, and tf-idf weight is a weight mostly used for information extraction and text mining. This weight is a mathematical method used to determine the value of a term in a list or corpus text. Importance decreases in relation to the amount of times a term occurs in the text, which is offset by the occurrence of the term in the corpus.\n",
    "\n",
    "Rather than using `countVectorizer` to convert a collection of text documents to a matrix of token counts and then applying idf to find `tf-idf` we can form matrix directly using __TfidfVectorizer__.\n"
   ]
  },
  {
   "cell_type": "code",
   "execution_count": 22,
   "metadata": {},
   "outputs": [
    {
     "name": "stdout",
     "output_type": "stream",
     "text": [
      "Reviews in Automotive has 1500 distinct terms\n",
      "Reviews in Hotels has 1815 distinct terms\n",
      "Reviews in Restaurants has 1575 distinct terms\n"
     ]
    }
   ],
   "source": [
    "#Creating TFIDF matrix for each category\n",
    "for i in range(len(category_list)):\n",
    "    \n",
    "    #applying pre-processing steps such as removing stop words, applying min_df and calculatinf tfidf matrix.\n",
    "    vectorizer = TfidfVectorizer(stop_words=\"english\",min_df=10)\n",
    "    \n",
    "    # Seperating reviews and target.\n",
    "    documents = category_list[i]['Reviews'].tolist()\n",
    "    targets = category_list[i]['Label'].tolist()\n",
    "\n",
    "    #Creating a tfidf matrix from the reviews.\n",
    "    X_vectorized = vectorizer.fit_transform(documents)\n",
    "    category_list[i] = pd.DataFrame(X_vectorized.todense(), columns = vectorizer.get_feature_names())\n",
    "    category_list[i]['Label'] = targets\n",
    "    \n",
    "    #Finding distinct terms\n",
    "    terms = vectorizer.get_feature_names()\n",
    "    \n",
    "    #Total terms in each category\n",
    "    print(\"Reviews in {} has {} distinct terms\" .format(category_list_name[i],len(terms)))\n",
    "    "
   ]
  },
  {
   "cell_type": "markdown",
   "metadata": {},
   "source": [
    "__Splitting into training and testing set__"
   ]
  },
  {
   "cell_type": "code",
   "execution_count": 23,
   "metadata": {},
   "outputs": [
    {
     "name": "stdout",
     "output_type": "stream",
     "text": [
      "AUTOMOTIVE: X_train:(1400, 1500), X_test:(600, 1500), Y_train:(1400,), Y_test:(600,)\n",
      "HOTEL:      X_train:(1400, 1815), X_test:(600, 1815), Y_train:(1400,), Y_test:(600,)\n",
      "RESTAURANT: X_train:(1400, 1575), X_test:(600, 1575), Y_train:(1400,), Y_test:(600,)\n"
     ]
    }
   ],
   "source": [
    "#Splitting the data into train and test sets for Automotive Category\n",
    "X_train_auto, X_test_auto, y_train_auto, y_test_auto = train_test_split(category_list[0].iloc[:,:-1], category_list[0].iloc[:,-1], test_size=0.30)\n",
    "X_train_hotel, X_test_hotel, y_train_hotel, y_test_hotel = train_test_split(category_list[1].iloc[:,:-1], category_list[1].iloc[:,-1], test_size=0.30)\n",
    "X_train_restaurant, X_test_restaurant, y_train_restaurant, y_test_restaurant = train_test_split(category_list[2].iloc[:,:-1], category_list[0].iloc[:,-1], test_size=0.30)\n",
    "\n",
    "print(\"AUTOMOTIVE: X_train:{}, X_test:{}, Y_train:{}, Y_test:{}\".format(X_train_auto.shape, X_test_auto.shape,y_train_auto.shape, y_test_auto.shape))\n",
    "print(\"HOTEL:      X_train:{}, X_test:{}, Y_train:{}, Y_test:{}\".format(X_train_hotel.shape, X_test_hotel.shape,y_train_hotel.shape, y_test_hotel.shape))\n",
    "print(\"RESTAURANT: X_train:{}, X_test:{}, Y_train:{}, Y_test:{}\".format(X_train_restaurant.shape, X_test_restaurant.shape,y_train_restaurant.shape, y_test_restaurant.shape))"
   ]
  },
  {
   "cell_type": "markdown",
   "metadata": {},
   "source": [
    "__b. Build a classification model to distinguish between “positive” and “negative” reviews using one of the following classifiers(Logistic regression, Naive bayes and Random Forest):__\n",
    "\n",
    "I have used __LOGISTIC REGRESSION__ as my base classifier among three as it outperforms in terms of accuracy and evaluation."
   ]
  },
  {
   "cell_type": "markdown",
   "metadata": {},
   "source": [
    "#### Category 1: Automotive"
   ]
  },
  {
   "cell_type": "code",
   "execution_count": 24,
   "metadata": {
    "scrolled": false
   },
   "outputs": [
    {
     "name": "stdout",
     "output_type": "stream",
     "text": [
      "TOTAL ACCURACY:89.33333333333333 \n",
      "\n"
     ]
    }
   ],
   "source": [
    "#Creating the classifier\n",
    "clf_logReg = LogisticRegression()\n",
    "clf_logReg.fit(X_train_auto, y_train_auto)\n",
    "\n",
    "#Predicting unseen data\n",
    "predict = clf_logReg.predict(X_test_auto)\n",
    "\n",
    "#Checking accuracy score\n",
    "acc = accuracy_score(predict, y_test_auto)\n",
    "print('TOTAL ACCURACY:{} \\n'.format(acc*100))"
   ]
  },
  {
   "cell_type": "markdown",
   "metadata": {},
   "source": [
    "__c. Test the predictions of the classification model using an appropriate evaluation strategy. Report and discuss the evaluation results in your notebook.__"
   ]
  },
  {
   "cell_type": "markdown",
   "metadata": {},
   "source": [
    "__c.1. Testing the predictions of the classification model on Automotive category.__"
   ]
  },
  {
   "cell_type": "markdown",
   "metadata": {},
   "source": [
    "__c.1.1: Using Confusion Matrix__"
   ]
  },
  {
   "cell_type": "code",
   "execution_count": 25,
   "metadata": {},
   "outputs": [
    {
     "name": "stdout",
     "output_type": "stream",
     "text": [
      "REPORT:\n",
      "              precision    recall  f1-score   support\n",
      "\n",
      "    negative       0.93      0.81      0.87       259\n",
      "    positive       0.87      0.95      0.91       341\n",
      "\n",
      "    accuracy                           0.89       600\n",
      "   macro avg       0.90      0.88      0.89       600\n",
      "weighted avg       0.90      0.89      0.89       600\n",
      "\n"
     ]
    },
    {
     "data": {
      "image/png": "[encoded data removed]",
      "text/plain": [
       "<Figure size 432x288 with 1 Axes>"
      ]
     },
     "metadata": {
      "needs_background": "light"
     },
     "output_type": "display_data"
    }
   ],
   "source": [
    "confusion_mat = confusion_matrix(y_test_auto,predict)\n",
    "report = classification_report(y_test_auto, predict)\n",
    "print(\"REPORT:\\n{}\".format(report))\n",
    "\n",
    "fig, ax = plt.subplots(figsize=(6,4))\n",
    "sn.heatmap(confusion_mat, cmap='YlOrRd', annot=True, cbar = False, fmt = 'd', annot_kws= {'size':16})\n",
    "sn.set(font_scale= 1.5)\n",
    "bottom,top = ax.get_ylim()\n",
    "ax.set_ylim(bottom +0.5, top - 0.5)\n",
    "plt.ylabel('Actual')\n",
    "plt.xlabel('Predicted')\n",
    "plt.show()"
   ]
  },
  {
   "cell_type": "markdown",
   "metadata": {},
   "source": [
    "__c.1.2: Using Cross Validation__"
   ]
  },
  {
   "cell_type": "code",
   "execution_count": 26,
   "metadata": {},
   "outputs": [
    {
     "name": "stdout",
     "output_type": "stream",
     "text": [
      "Fold 1->    0.893238\n",
      "Fold 2->    0.907143\n",
      "Fold 3->    0.900000\n",
      "Fold 4->    0.857143\n",
      "Fold 5->    0.928315\n",
      "dtype: float64\n",
      "Mean accuracy-> 0.8972\n"
     ]
    }
   ],
   "source": [
    "#5 fold Cross validation so as to consider every review as a part of test data once and training dataset as k-1(4) times.\n",
    "acc_scores = cross_val_score(clf_logReg, X_train_auto, y_train_auto, cv=5, scoring=\"accuracy\")\n",
    "\n",
    "#Represent the results as a Pandas Series\n",
    "labels = [ \"Fold %d->\" % i for i in range(1,len(acc_scores)+1) ]\n",
    "accuracies = pd.Series(acc_scores, index = labels)\n",
    "print(accuracies)\n",
    "\n",
    "#Mean accuracy of 5 folds\n",
    "print(\"Mean accuracy-> %.4f\" % accuracies.mean() )"
   ]
  },
  {
   "cell_type": "markdown",
   "metadata": {},
   "source": [
    "__c.1.3: Using Repeated K folds__"
   ]
  },
  {
   "cell_type": "code",
   "execution_count": 27,
   "metadata": {},
   "outputs": [
    {
     "name": "stdout",
     "output_type": "stream",
     "text": [
      "Overall mean accuracy:0.89\n",
      "Overall standard deviation:0.01\n"
     ]
    }
   ],
   "source": [
    "#Evaluating performance using the RepeatedKFold.\n",
    "rkf = RepeatedKFold(n_splits=5, n_repeats=10)\n",
    "\n",
    "#RepeatedKFold is passed as the parameter cv.\n",
    "rep_acc_scores = cross_val_score(clf_logReg, X_train_auto, y_train_auto, cv=rkf, scoring=\"accuracy\")\n",
    "\n",
    "#Converting the results to Pandas Series.\n",
    "rk_acc = pd.Series(rep_acc_scores)\n",
    "\n",
    "#First 5 accuracies\n",
    "rk_acc.head(5)\n",
    "\n",
    "print(\"Overall mean accuracy:%.2f\" %rk_acc.mean())\n",
    "print(\"Overall standard deviation:%.2f\" %rk_acc.std())"
   ]
  },
  {
   "cell_type": "markdown",
   "metadata": {},
   "source": [
    "#### Category 2: Hotels"
   ]
  },
  {
   "cell_type": "code",
   "execution_count": 28,
   "metadata": {},
   "outputs": [
    {
     "name": "stdout",
     "output_type": "stream",
     "text": [
      "TOTAL ACCURACY:89.5 \n",
      "\n"
     ]
    }
   ],
   "source": [
    "#Creating the classifier\n",
    "clf_logReg = LogisticRegression()\n",
    "clf_logReg.fit(X_train_hotel, y_train_hotel)\n",
    "\n",
    "#Predicting unseen data\n",
    "predict = clf_logReg.predict(X_test_hotel)\n",
    "\n",
    "#Checking accuracy score\n",
    "acc = accuracy_score(predict, y_test_hotel)\n",
    "print('TOTAL ACCURACY:{} \\n'.format(acc*100))"
   ]
  },
  {
   "cell_type": "markdown",
   "metadata": {},
   "source": [
    "__c.2. Testing the predictions of the classification model on Hotels category.__\n",
    "\n",
    "__c.2.1. Using confusion matrix.__"
   ]
  },
  {
   "cell_type": "code",
   "execution_count": 29,
   "metadata": {},
   "outputs": [
    {
     "name": "stdout",
     "output_type": "stream",
     "text": [
      "REPORT:\n",
      "              precision    recall  f1-score   support\n",
      "\n",
      "    negative       0.94      0.80      0.86       250\n",
      "    positive       0.87      0.97      0.91       350\n",
      "\n",
      "    accuracy                           0.90       600\n",
      "   macro avg       0.91      0.88      0.89       600\n",
      "weighted avg       0.90      0.90      0.89       600\n",
      "\n"
     ]
    },
    {
     "data": {
      "image/png": "[encoded data removed]",
      "text/plain": [
       "<Figure size 432x288 with 1 Axes>"
      ]
     },
     "metadata": {},
     "output_type": "display_data"
    }
   ],
   "source": [
    "confusion_mat = confusion_matrix(y_test_hotel,predict)\n",
    "report = classification_report(y_test_hotel, predict)\n",
    "print(\"REPORT:\\n{}\".format(report))\n",
    "\n",
    "fig, ax = plt.subplots(figsize=(6,4))\n",
    "sn.heatmap(confusion_mat, cmap='Blues', annot=True, cbar = False, fmt = 'd', annot_kws= {'size':16})\n",
    "sn.set(font_scale= 1.5)\n",
    "bottom,top = ax.get_ylim()\n",
    "ax.set_ylim(bottom+0.5, top - 0.5)\n",
    "plt.ylabel('Actual')\n",
    "plt.xlabel('Predicted')\n",
    "plt.show()"
   ]
  },
  {
   "cell_type": "markdown",
   "metadata": {},
   "source": [
    "__c.2.2: Using Cross Validation__"
   ]
  },
  {
   "cell_type": "code",
   "execution_count": 30,
   "metadata": {},
   "outputs": [
    {
     "name": "stdout",
     "output_type": "stream",
     "text": [
      "Fold 1->    0.918149\n",
      "Fold 2->    0.896429\n",
      "Fold 3->    0.867857\n",
      "Fold 4->    0.903571\n",
      "Fold 5->    0.874552\n",
      "dtype: float64\n",
      "Mean accuracy-> 0.8921\n"
     ]
    }
   ],
   "source": [
    "#5 fold Cross validation so as to consider every review as a part of test data once and training dataset as k-1(4) times.\n",
    "acc_scores = cross_val_score(clf_logReg, X_train_hotel, y_train_hotel, cv=5, scoring=\"accuracy\")\n",
    "\n",
    "#Represent the results as a Pandas Series\n",
    "labels = [ \"Fold %d->\" % i for i in range(1,len(acc_scores)+1) ]\n",
    "accuracies = pd.Series(acc_scores, index = labels)\n",
    "print(accuracies)\n",
    "\n",
    "#Mean accuracy of 5 folds\n",
    "print(\"Mean accuracy-> %.4f\" % accuracies.mean() )"
   ]
  },
  {
   "cell_type": "markdown",
   "metadata": {},
   "source": [
    "__c.2.3: Using Repeated K folds__"
   ]
  },
  {
   "cell_type": "code",
   "execution_count": 31,
   "metadata": {},
   "outputs": [
    {
     "name": "stdout",
     "output_type": "stream",
     "text": [
      "Overall mean accuracy:0.89\n",
      "Overall standard deviation:0.02\n"
     ]
    }
   ],
   "source": [
    "#Evaluating performance using the RepeatedKFold.\n",
    "rkf = RepeatedKFold(n_splits=5, n_repeats=10)\n",
    "\n",
    "#RepeatedKFold is passed as the parameter cv.\n",
    "rep_acc_scores = cross_val_score(clf_logReg, X_train_hotel, y_train_hotel, cv=rkf, scoring=\"accuracy\")\n",
    "\n",
    "#Converting the results to Pandas Series.\n",
    "rk_acc = pd.Series(rep_acc_scores)\n",
    "\n",
    "#First 5 accuracies\n",
    "rk_acc.head(5)\n",
    "\n",
    "print(\"Overall mean accuracy:%.2f\" %rk_acc.mean())\n",
    "print(\"Overall standard deviation:%.2f\" %rk_acc.std())"
   ]
  },
  {
   "cell_type": "markdown",
   "metadata": {},
   "source": [
    "#### Category 3: Restaurants"
   ]
  },
  {
   "cell_type": "code",
   "execution_count": 32,
   "metadata": {},
   "outputs": [
    {
     "name": "stdout",
     "output_type": "stream",
     "text": [
      "TOTAL ACCURACY:60.16666666666667 \n",
      "\n"
     ]
    }
   ],
   "source": [
    "#Creating the classifier\n",
    "clf_logReg = LogisticRegression()\n",
    "clf_logReg.fit(X_train_restaurant, y_train_restaurant)\n",
    "\n",
    "#Predicting unseen data\n",
    "predict = clf_logReg.predict(X_test_restaurant)\n",
    "\n",
    "#Checking accuracy score\n",
    "acc = accuracy_score(predict, y_test_restaurant)\n",
    "print('TOTAL ACCURACY:{} \\n'.format(acc*100))\n"
   ]
  },
  {
   "cell_type": "markdown",
   "metadata": {},
   "source": [
    "__c.3. Testing the predictions of the classification model on Restaurants category.__\n",
    "\n",
    "__c.3.1: Using Confusion Matrix__"
   ]
  },
  {
   "cell_type": "code",
   "execution_count": 33,
   "metadata": {},
   "outputs": [
    {
     "name": "stdout",
     "output_type": "stream",
     "text": [
      "REPORT:\n",
      "              precision    recall  f1-score   support\n",
      "\n",
      "    negative       0.47      0.16      0.24       235\n",
      "    positive       0.62      0.88      0.73       365\n",
      "\n",
      "    accuracy                           0.60       600\n",
      "   macro avg       0.55      0.52      0.49       600\n",
      "weighted avg       0.56      0.60      0.54       600\n",
      "\n"
     ]
    },
    {
     "data": {
      "image/png": "[encoded data removed]",
      "text/plain": [
       "<Figure size 432x288 with 1 Axes>"
      ]
     },
     "metadata": {},
     "output_type": "display_data"
    }
   ],
   "source": [
    "confusion_mat = confusion_matrix(y_test_restaurant,predict)\n",
    "report = classification_report(y_test_restaurant, predict)\n",
    "print(\"REPORT:\\n{}\".format(report))\n",
    "\n",
    "fig, ax = plt.subplots(figsize=(6,4))\n",
    "sn.heatmap(confusion_mat, cmap='YlGn', annot=True, cbar = False, fmt = 'd', annot_kws= {'size':16})\n",
    "sn.set(font_scale= 1.5)\n",
    "bottom,top = ax.get_ylim()\n",
    "ax.set_ylim(bottom+0.5, top - 0.5)\n",
    "plt.ylabel('Actual')\n",
    "plt.xlabel('Predicted')\n",
    "plt.show()"
   ]
  },
  {
   "cell_type": "markdown",
   "metadata": {},
   "source": [
    "__c.3.2: Using Cross Validation__"
   ]
  },
  {
   "cell_type": "code",
   "execution_count": 34,
   "metadata": {},
   "outputs": [
    {
     "name": "stdout",
     "output_type": "stream",
     "text": [
      "Fold 1->    0.622776\n",
      "Fold 2->    0.604982\n",
      "Fold 3->    0.589286\n",
      "Fold 4->    0.591398\n",
      "Fold 5->    0.577061\n",
      "dtype: float64\n",
      "Mean accuracy-> 0.5971\n"
     ]
    }
   ],
   "source": [
    "#5 fold Cross validation so as to consider every review as a part of test data once and training dataset as k-1(4) times.\n",
    "acc_scores = cross_val_score(clf_logReg, X_train_restaurant, y_train_restaurant, cv=5, scoring=\"accuracy\")\n",
    "\n",
    "#Represent the results as a Pandas Series\n",
    "labels = [ \"Fold %d->\" % i for i in range(1,len(acc_scores)+1) ]\n",
    "accuracies = pd.Series(acc_scores, index = labels)\n",
    "print(accuracies)\n",
    "\n",
    "#Mean accuracy of 5 folds\n",
    "print(\"Mean accuracy-> %.4f\" % accuracies.mean() )"
   ]
  },
  {
   "cell_type": "markdown",
   "metadata": {},
   "source": [
    "__c.3.3: Using Repeated K folds__"
   ]
  },
  {
   "cell_type": "code",
   "execution_count": 35,
   "metadata": {},
   "outputs": [
    {
     "name": "stdout",
     "output_type": "stream",
     "text": [
      "Overall mean accuracy:0.59\n",
      "Overall standard deviation:0.02\n"
     ]
    }
   ],
   "source": [
    "#Evaluating performance using the RepeatedKFold.\n",
    "rkf = RepeatedKFold(n_splits=5, n_repeats=10)\n",
    "\n",
    "#RepeatedKFold is passed as the parameter cv.\n",
    "rep_acc_scores = cross_val_score(clf_logReg, X_train_restaurant, y_train_restaurant, cv=rkf, scoring=\"accuracy\")\n",
    "\n",
    "#Converting the results to Pandas Series.\n",
    "rk_acc = pd.Series(rep_acc_scores)\n",
    "\n",
    "#First 5 accuracies\n",
    "rk_acc.head(5)\n",
    "\n",
    "print(\"Overall mean accuracy:%.2f\" %rk_acc.mean())\n",
    "print(\"Overall standard deviation:%.2f\" %rk_acc.std())"
   ]
  },
  {
   "cell_type": "markdown",
   "metadata": {},
   "source": [
    "### Task 3. \n",
    "\n",
    "__Evaluate the performance of each of your three classification models when applied to data from the other two selected categories. That is, for the selected categories (A,B,C), run the experiments:__"
   ]
  },
  {
   "cell_type": "code",
   "execution_count": 39,
   "metadata": {},
   "outputs": [
    {
     "data": {
      "text/html": [
       "<div>\n",
       "<style scoped>\n",
       "    .dataframe tbody tr th:only-of-type {\n",
       "        vertical-align: middle;\n",
       "    }\n",
       "\n",
       "    .dataframe tbody tr th {\n",
       "        vertical-align: top;\n",
       "    }\n",
       "\n",
       "    .dataframe thead th {\n",
       "        text-align: right;\n",
       "    }\n",
       "</style>\n",
       "<table border=\"1\" class=\"dataframe\">\n",
       "  <thead>\n",
       "    <tr style=\"text-align: right;\">\n",
       "      <th></th>\n",
       "      <th>Reviews</th>\n",
       "      <th>Label</th>\n",
       "    </tr>\n",
       "  </thead>\n",
       "  <tbody>\n",
       "    <tr>\n",
       "      <th>0</th>\n",
       "      <td>The man that was working tonight (8-12-17) was...</td>\n",
       "      <td>negative</td>\n",
       "    </tr>\n",
       "    <tr>\n",
       "      <th>1</th>\n",
       "      <td>Chris is a very rude person. Gave me an attitu...</td>\n",
       "      <td>negative</td>\n",
       "    </tr>\n",
       "    <tr>\n",
       "      <th>2</th>\n",
       "      <td>One of my favorite gas station to stop at. The...</td>\n",
       "      <td>positive</td>\n",
       "    </tr>\n",
       "    <tr>\n",
       "      <th>3</th>\n",
       "      <td>Oh thank Heaven for Seven Eleven! I don't know...</td>\n",
       "      <td>negative</td>\n",
       "    </tr>\n",
       "    <tr>\n",
       "      <th>4</th>\n",
       "      <td>Five stars because of the guy who works weekda...</td>\n",
       "      <td>positive</td>\n",
       "    </tr>\n",
       "    <tr>\n",
       "      <th>...</th>\n",
       "      <td>...</td>\n",
       "      <td>...</td>\n",
       "    </tr>\n",
       "    <tr>\n",
       "      <th>5995</th>\n",
       "      <td>As a first timer ordering Zeppe's, this was an...</td>\n",
       "      <td>negative</td>\n",
       "    </tr>\n",
       "    <tr>\n",
       "      <th>5996</th>\n",
       "      <td>We were also staying at the Fairfield Inn, and...</td>\n",
       "      <td>positive</td>\n",
       "    </tr>\n",
       "    <tr>\n",
       "      <th>5997</th>\n",
       "      <td>I was staying at the Fairfield Inn. Delivery w...</td>\n",
       "      <td>positive</td>\n",
       "    </tr>\n",
       "    <tr>\n",
       "      <th>5998</th>\n",
       "      <td>I drive 7 miles out of the way and past severa...</td>\n",
       "      <td>positive</td>\n",
       "    </tr>\n",
       "    <tr>\n",
       "      <th>5999</th>\n",
       "      <td>Zeppe's used to be my go-to pizza place but re...</td>\n",
       "      <td>negative</td>\n",
       "    </tr>\n",
       "  </tbody>\n",
       "</table>\n",
       "<p>6000 rows × 2 columns</p>\n",
       "</div>"
      ],
      "text/plain": [
       "                                                Reviews     Label\n",
       "0     The man that was working tonight (8-12-17) was...  negative\n",
       "1     Chris is a very rude person. Gave me an attitu...  negative\n",
       "2     One of my favorite gas station to stop at. The...  positive\n",
       "3     Oh thank Heaven for Seven Eleven! I don't know...  negative\n",
       "4     Five stars because of the guy who works weekda...  positive\n",
       "...                                                 ...       ...\n",
       "5995  As a first timer ordering Zeppe's, this was an...  negative\n",
       "5996  We were also staying at the Fairfield Inn, and...  positive\n",
       "5997  I was staying at the Fairfield Inn. Delivery w...  positive\n",
       "5998  I drive 7 miles out of the way and past severa...  positive\n",
       "5999  Zeppe's used to be my go-to pizza place but re...  negative\n",
       "\n",
       "[6000 rows x 2 columns]"
      ]
     },
     "execution_count": 39,
     "metadata": {},
     "output_type": "execute_result"
    }
   ],
   "source": [
    "#Reading all categories into one dataframe for easy analysis\n",
    "df_all = pd.DataFrame()\n",
    "root = '..\\collected_data'\n",
    "for root, directories, files in os.walk(root):\n",
    "    for file in files:\n",
    "        file_path = os.path.join(root,file)\n",
    "        df_all = df_all.append(pd.read_csv(file_path),ignore_index=True)\n",
    "df_all"
   ]
  },
  {
   "cell_type": "markdown",
   "metadata": {},
   "source": [
    "==========================================================================================================================\n",
    "__Pre-Processing:__\n",
    "\n",
    "Following pre-processing steps are used on the data:\n",
    "\n",
    "    1. Lemmatization\n",
    "    2. Stopword removal\n",
    "    3. Minimum document frequency\n",
    "    4. TF-IDF Vectorization"
   ]
  },
  {
   "cell_type": "code",
   "execution_count": 40,
   "metadata": {},
   "outputs": [
    {
     "data": {
      "text/html": [
       "<div>\n",
       "<style scoped>\n",
       "    .dataframe tbody tr th:only-of-type {\n",
       "        vertical-align: middle;\n",
       "    }\n",
       "\n",
       "    .dataframe tbody tr th {\n",
       "        vertical-align: top;\n",
       "    }\n",
       "\n",
       "    .dataframe thead th {\n",
       "        text-align: right;\n",
       "    }\n",
       "</style>\n",
       "<table border=\"1\" class=\"dataframe\">\n",
       "  <thead>\n",
       "    <tr style=\"text-align: right;\">\n",
       "      <th></th>\n",
       "      <th>00</th>\n",
       "      <th>000</th>\n",
       "      <th>10</th>\n",
       "      <th>100</th>\n",
       "      <th>1000</th>\n",
       "      <th>10am</th>\n",
       "      <th>11</th>\n",
       "      <th>110</th>\n",
       "      <th>11am</th>\n",
       "      <th>12</th>\n",
       "      <th>...</th>\n",
       "      <th>younger</th>\n",
       "      <th>yuck</th>\n",
       "      <th>yum</th>\n",
       "      <th>yummy</th>\n",
       "      <th>zach</th>\n",
       "      <th>zero</th>\n",
       "      <th>zone</th>\n",
       "      <th>zoo</th>\n",
       "      <th>zu</th>\n",
       "      <th>zucchini</th>\n",
       "    </tr>\n",
       "  </thead>\n",
       "  <tbody>\n",
       "    <tr>\n",
       "      <th>0</th>\n",
       "      <td>0.0</td>\n",
       "      <td>0.0</td>\n",
       "      <td>0.0</td>\n",
       "      <td>0.0</td>\n",
       "      <td>0.0</td>\n",
       "      <td>0.0</td>\n",
       "      <td>0.000000</td>\n",
       "      <td>0.0</td>\n",
       "      <td>0.0</td>\n",
       "      <td>0.232394</td>\n",
       "      <td>...</td>\n",
       "      <td>0.0</td>\n",
       "      <td>0.0</td>\n",
       "      <td>0.0</td>\n",
       "      <td>0.0</td>\n",
       "      <td>0.0</td>\n",
       "      <td>0.0</td>\n",
       "      <td>0.0</td>\n",
       "      <td>0.0</td>\n",
       "      <td>0.0</td>\n",
       "      <td>0.0</td>\n",
       "    </tr>\n",
       "    <tr>\n",
       "      <th>1</th>\n",
       "      <td>0.0</td>\n",
       "      <td>0.0</td>\n",
       "      <td>0.0</td>\n",
       "      <td>0.0</td>\n",
       "      <td>0.0</td>\n",
       "      <td>0.0</td>\n",
       "      <td>0.000000</td>\n",
       "      <td>0.0</td>\n",
       "      <td>0.0</td>\n",
       "      <td>0.000000</td>\n",
       "      <td>...</td>\n",
       "      <td>0.0</td>\n",
       "      <td>0.0</td>\n",
       "      <td>0.0</td>\n",
       "      <td>0.0</td>\n",
       "      <td>0.0</td>\n",
       "      <td>0.0</td>\n",
       "      <td>0.0</td>\n",
       "      <td>0.0</td>\n",
       "      <td>0.0</td>\n",
       "      <td>0.0</td>\n",
       "    </tr>\n",
       "    <tr>\n",
       "      <th>2</th>\n",
       "      <td>0.0</td>\n",
       "      <td>0.0</td>\n",
       "      <td>0.0</td>\n",
       "      <td>0.0</td>\n",
       "      <td>0.0</td>\n",
       "      <td>0.0</td>\n",
       "      <td>0.000000</td>\n",
       "      <td>0.0</td>\n",
       "      <td>0.0</td>\n",
       "      <td>0.000000</td>\n",
       "      <td>...</td>\n",
       "      <td>0.0</td>\n",
       "      <td>0.0</td>\n",
       "      <td>0.0</td>\n",
       "      <td>0.0</td>\n",
       "      <td>0.0</td>\n",
       "      <td>0.0</td>\n",
       "      <td>0.0</td>\n",
       "      <td>0.0</td>\n",
       "      <td>0.0</td>\n",
       "      <td>0.0</td>\n",
       "    </tr>\n",
       "    <tr>\n",
       "      <th>3</th>\n",
       "      <td>0.0</td>\n",
       "      <td>0.0</td>\n",
       "      <td>0.0</td>\n",
       "      <td>0.0</td>\n",
       "      <td>0.0</td>\n",
       "      <td>0.0</td>\n",
       "      <td>0.000000</td>\n",
       "      <td>0.0</td>\n",
       "      <td>0.0</td>\n",
       "      <td>0.000000</td>\n",
       "      <td>...</td>\n",
       "      <td>0.0</td>\n",
       "      <td>0.0</td>\n",
       "      <td>0.0</td>\n",
       "      <td>0.0</td>\n",
       "      <td>0.0</td>\n",
       "      <td>0.0</td>\n",
       "      <td>0.0</td>\n",
       "      <td>0.0</td>\n",
       "      <td>0.0</td>\n",
       "      <td>0.0</td>\n",
       "    </tr>\n",
       "    <tr>\n",
       "      <th>4</th>\n",
       "      <td>0.0</td>\n",
       "      <td>0.0</td>\n",
       "      <td>0.0</td>\n",
       "      <td>0.0</td>\n",
       "      <td>0.0</td>\n",
       "      <td>0.0</td>\n",
       "      <td>0.206762</td>\n",
       "      <td>0.0</td>\n",
       "      <td>0.0</td>\n",
       "      <td>0.000000</td>\n",
       "      <td>...</td>\n",
       "      <td>0.0</td>\n",
       "      <td>0.0</td>\n",
       "      <td>0.0</td>\n",
       "      <td>0.0</td>\n",
       "      <td>0.0</td>\n",
       "      <td>0.0</td>\n",
       "      <td>0.0</td>\n",
       "      <td>0.0</td>\n",
       "      <td>0.0</td>\n",
       "      <td>0.0</td>\n",
       "    </tr>\n",
       "  </tbody>\n",
       "</table>\n",
       "<p>5 rows × 3710 columns</p>\n",
       "</div>"
      ],
      "text/plain": [
       "    00  000   10  100  1000  10am        11  110  11am        12  ...  \\\n",
       "0  0.0  0.0  0.0  0.0   0.0   0.0  0.000000  0.0   0.0  0.232394  ...   \n",
       "1  0.0  0.0  0.0  0.0   0.0   0.0  0.000000  0.0   0.0  0.000000  ...   \n",
       "2  0.0  0.0  0.0  0.0   0.0   0.0  0.000000  0.0   0.0  0.000000  ...   \n",
       "3  0.0  0.0  0.0  0.0   0.0   0.0  0.000000  0.0   0.0  0.000000  ...   \n",
       "4  0.0  0.0  0.0  0.0   0.0   0.0  0.206762  0.0   0.0  0.000000  ...   \n",
       "\n",
       "   younger  yuck  yum  yummy  zach  zero  zone  zoo   zu  zucchini  \n",
       "0      0.0   0.0  0.0    0.0   0.0   0.0   0.0  0.0  0.0       0.0  \n",
       "1      0.0   0.0  0.0    0.0   0.0   0.0   0.0  0.0  0.0       0.0  \n",
       "2      0.0   0.0  0.0    0.0   0.0   0.0   0.0  0.0  0.0       0.0  \n",
       "3      0.0   0.0  0.0    0.0   0.0   0.0   0.0  0.0  0.0       0.0  \n",
       "4      0.0   0.0  0.0    0.0   0.0   0.0   0.0  0.0  0.0       0.0  \n",
       "\n",
       "[5 rows x 3710 columns]"
      ]
     },
     "execution_count": 40,
     "metadata": {},
     "output_type": "execute_result"
    }
   ],
   "source": [
    "all_documents = df_all['Reviews'].tolist()\n",
    "all_targets = df_all['Label'].tolist()\n",
    "\n",
    "#Initializing vectorizer and removing stop words and taking only those terms which occur in more than 10 documents(min_df=10)\n",
    "vectorizer = TfidfVectorizer(stop_words=\"english\",min_df=10) \n",
    "\n",
    "#Calculating tf-idf and creating a vector of terms.\n",
    "X_all_reviews = vectorizer.fit_transform(all_documents)\n",
    "\n",
    "#To visualize the data in tabular format.\n",
    "df_tfidf = pd.DataFrame(X_all_reviews.todense(), columns =vectorizer.get_feature_names())\n",
    "df_tfidf.head()"
   ]
  },
  {
   "cell_type": "code",
   "execution_count": 41,
   "metadata": {},
   "outputs": [
    {
     "data": {
      "text/plain": [
       "(6000, 3710)"
      ]
     },
     "execution_count": 41,
     "metadata": {},
     "output_type": "execute_result"
    }
   ],
   "source": [
    "#Shape of complete dataframe.\n",
    "df_tfidf.shape"
   ]
  },
  {
   "cell_type": "markdown",
   "metadata": {},
   "source": [
    "__Since each category had 2000 records, I have seperated the categories using record numbers__"
   ]
  },
  {
   "cell_type": "code",
   "execution_count": 42,
   "metadata": {},
   "outputs": [],
   "source": [
    "#Splitting again the complete tf-idf matrix into seperate dataframes.\n",
    "df_automotive = df_tfidf.loc[0:1999,:]\n",
    "df_automotive['Label'] = all_targets[:2000]\n",
    "\n",
    "df_hotels = df_tfidf.loc[2000:3999,:]\n",
    "df_hotels['Label'] = all_targets[2000:4000]\n",
    "\n",
    "df_restaurants = df_tfidf.loc[4000:,:]\n",
    "df_restaurants['Label'] = all_targets[4000:]\n"
   ]
  },
  {
   "cell_type": "code",
   "execution_count": 43,
   "metadata": {},
   "outputs": [
    {
     "name": "stdout",
     "output_type": "stream",
     "text": [
      "Hotels dataframe shape: (2000, 3711)\n",
      "Restaurants dataframe shape: (2000, 3711)\n",
      "Automotive dataframe shape: (2000, 3711)\n"
     ]
    }
   ],
   "source": [
    "print('Hotels dataframe shape:',df_hotels.shape)\n",
    "print('Restaurants dataframe shape:',df_restaurants.shape)\n",
    "print('Automotive dataframe shape:',df_automotive.shape)\n",
    "\n",
    "df_category_list = [df_automotive, df_hotels, df_restaurants]"
   ]
  },
  {
   "cell_type": "markdown",
   "metadata": {},
   "source": [
    "__Cross Category Evaluation__\n",
    "\n",
    "* Training a classification model on the data from “Category Automotive”. Evaluating its performance on data from “Category Hotel” and data from “Category Restaurant”.\n",
    "\n",
    "* Training a classification model on the data from “Category Hotels”. Evaluating its performance on data from “Category Automotive” and data from “Category Restaurants”.\n",
    "\n",
    "* Training a classification model on the data from “Category Restaurants”. Evaluating its performance on data from “Category Automotive” and data from “Category Hotels”."
   ]
  },
  {
   "cell_type": "code",
   "execution_count": 44,
   "metadata": {},
   "outputs": [
    {
     "name": "stdout",
     "output_type": "stream",
     "text": [
      "Accuracy when Training on \"Automotive\" and Testing on \"Hotels\"= 86.6%\n",
      "Accuracy when Training on \"Automotive\" and Testing on \"Restaurants\"= 76.85%\n",
      "Accuracy when Training on \"Hotels\" and Testing on \"Automotive\"= 87.25%\n",
      "Accuracy when Training on \"Hotels\" and Testing on \"Restaurants\"= 82.55%\n",
      "Accuracy when Training on \"Restaurants\" and Testing on \"Automotive\"= 80.25%\n",
      "Accuracy when Training on \"Restaurants\" and Testing on \"Hotels\"= 85.5%\n"
     ]
    }
   ],
   "source": [
    "ring = {0:[1,2],1:[0,2],2:[0,1]}\n",
    "category_list_name = ['Automotive', 'Hotels', 'Restaurants']\n",
    "for i in range(len(ring)):\n",
    "    #Training on one category\n",
    "    X_train = df_category_list[i].iloc[:,:-1]\n",
    "    y_train = df_category_list[i]['Label']\n",
    "    \n",
    "    #Testing on remaining categories\n",
    "    for j in (ring[i]):\n",
    "        X_test = df_category_list[j].iloc[:,:-1]\n",
    "        y_test = df_category_list[j]['Label']\n",
    "\n",
    "        clf_logReg = LogisticRegression()\n",
    "        clf_logReg.fit(X_train, y_train)\n",
    "\n",
    "        #Predicting unseen data\n",
    "        predict = clf_logReg.predict(X_test)\n",
    "\n",
    "        #Checking accuracy score\n",
    "        acc_score = accuracy_score(predict, y_test)\n",
    "        print('Accuracy when Training on \"{}\" and Testing on \"{}\"= {}%'.format(category_list_name[i],category_list_name[j],acc_score*100))"
   ]
  },
  {
   "cell_type": "code",
   "execution_count": null,
   "metadata": {},
   "outputs": [],
   "source": []
  }
 ],
 "metadata": {
  "kernelspec": {
   "display_name": "Python 3",
   "language": "python",
   "name": "python3"
  },
  "language_info": {
   "codemirror_mode": {
    "name": "ipython",
    "version": 3
   },
   "file_extension": ".py",
   "mimetype": "text/x-python",
   "name": "python",
   "nbconvert_exporter": "python",
   "pygments_lexer": "ipython3",
   "version": "3.7.4"
  }
 },
 "nbformat": 4,
 "nbformat_minor": 2
}
