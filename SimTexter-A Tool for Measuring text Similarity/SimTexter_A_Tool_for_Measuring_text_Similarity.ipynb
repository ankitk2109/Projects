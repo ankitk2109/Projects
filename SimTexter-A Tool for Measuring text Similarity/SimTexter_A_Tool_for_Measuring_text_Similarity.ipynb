{
 "cells": [
  {
   "cell_type": "markdown",
   "metadata": {},
   "source": [
    "## Measuring Similarity using Jaccard Similarity"
   ]
  },
  {
   "cell_type": "code",
   "execution_count": 1,
   "metadata": {},
   "outputs": [],
   "source": [
    "target_dic ={\n",
    "'target1' : 'He took off his clothes, stopped and put on his wollen pajamas.',\n",
    "'target2' : 'He was wearing his wollen pajamas when he opened the door.',\n",
    "'target3' : 'He likes to sleep in shorts, but I prefer to wear wollen pajamas.',\n",
    "'target4' : 'When I stopped by this morning, Tom was still in his cotton pajamas',\n",
    "'target5' : 'He wears pants and wollen pajamas at night. Tom stopped to open door',\n",
    "'target6' : 'He is a great guy in wollen pajamas and he carries a pen in his hand.'\n",
    "}"
   ]
  },
  {
   "cell_type": "code",
   "execution_count": 2,
   "metadata": {},
   "outputs": [],
   "source": [
    "from nltk.tokenize import TweetTokenizer\n",
    "from nltk.corpus import stopwords"
   ]
  },
  {
   "cell_type": "code",
   "execution_count": 3,
   "metadata": {},
   "outputs": [],
   "source": [
    "tknzr = TweetTokenizer()"
   ]
  },
  {
   "cell_type": "code",
   "execution_count": 4,
   "metadata": {},
   "outputs": [
    {
     "name": "stdout",
     "output_type": "stream",
     "text": [
      "{'target1': ['He', 'took', 'off', 'his', 'clothes', ',', 'stopped', 'and', 'put', 'on', 'his', 'wollen', 'pajamas', '.'], 'target2': ['He', 'was', 'wearing', 'his', 'wollen', 'pajamas', 'when', 'he', 'opened', 'the', 'door', '.'], 'target3': ['He', 'likes', 'to', 'sleep', 'in', 'shorts', ',', 'but', 'I', 'prefer', 'to', 'wear', 'wollen', 'pajamas', '.'], 'target4': ['When', 'I', 'stopped', 'by', 'this', 'morning', ',', 'Tom', 'was', 'still', 'in', 'his', 'cotton', 'pajamas'], 'target5': ['He', 'wears', 'pants', 'and', 'wollen', 'pajamas', 'at', 'night', '.', 'Tom', 'stopped', 'to', 'open', 'door'], 'target6': ['He', 'is', 'a', 'great', 'guy', 'in', 'wollen', 'pajamas', 'and', 'he', 'carries', 'a', 'pen', 'in', 'his', 'hand', '.']}\n"
     ]
    }
   ],
   "source": [
    "tokenize_target =[]\n",
    "keys =target_dic.keys()\n",
    "for key in keys:\n",
    "   target_dic[key] = tknzr.tokenize(target_dic[key])\n",
    "print (target_dic)"
   ]
  },
  {
   "cell_type": "code",
   "execution_count": 5,
   "metadata": {},
   "outputs": [
    {
     "name": "stdout",
     "output_type": "stream",
     "text": [
      "[['He', 'took', 'clothes', ',', 'stopped', 'put', 'wollen', 'pajamas', '.'], ['He', 'wearing', 'wollen', 'pajamas', 'opened', 'door', '.'], ['He', 'likes', 'sleep', 'shorts', ',', 'I', 'prefer', 'wear', 'wollen', 'pajamas', '.'], ['When', 'I', 'stopped', 'morning', ',', 'Tom', 'still', 'cotton', 'pajamas'], ['He', 'wears', 'pants', 'wollen', 'pajamas', 'night', '.', 'Tom', 'stopped', 'open', 'door'], ['He', 'great', 'guy', 'wollen', 'pajamas', 'carries', 'pen', 'hand', '.']]\n"
     ]
    }
   ],
   "source": [
    "#Removing stop words\n",
    "filtered_tweet_list=[]\n",
    "stop_words = stopwords.words('english')\n",
    "'''for key in keys:\n",
    "    for current_list in target_dic[key]:\n",
    "        temp_list=[]\n",
    "        for word in current_list:\n",
    "            print (\"Inside word\",word)\n",
    "            if word not in stop_words:\n",
    "                temp_list.append(word)\n",
    "    filtered_tweet_list.append(temp_list)'''\n",
    "\n",
    "for key in keys:\n",
    "    temp_list=[]\n",
    "    for words in target_dic[key]:\n",
    "        if words not in stop_words:\n",
    "            #print(\"inside if\")\n",
    "            temp_list.append(words)\n",
    "    filtered_tweet_list.append(temp_list)    \n",
    "\n",
    "print(filtered_tweet_list)\n"
   ]
  },
  {
   "cell_type": "code",
   "execution_count": 7,
   "metadata": {},
   "outputs": [],
   "source": [
    "#Removing the special characters and changing  to lower case\n",
    "import re\n",
    "for i in range (0, len(filtered_tweet_list)):\n",
    "    for j in range (0, len(filtered_tweet_list[i])):\n",
    "        filtered_tweet_list[i][j] = re.sub(r\"[^a-zA-Z0-9]+\", '', filtered_tweet_list[i][j])\n",
    "        filtered_tweet_list[i][j] = filtered_tweet_list[i][j].lower()"
   ]
  },
  {
   "cell_type": "code",
   "execution_count": 8,
   "metadata": {},
   "outputs": [
    {
     "name": "stdout",
     "output_type": "stream",
     "text": [
      "[['he', 'took', 'clothes', 'stopped', 'put', 'wollen', 'pajamas'], ['he', 'wearing', 'wollen', 'pajamas', 'opened', 'door'], ['he', 'likes', 'sleep', 'shorts', 'i', 'prefer', 'wear', 'wollen', 'pajamas'], ['when', 'i', 'stopped', 'morning', 'tom', 'still', 'cotton', 'pajamas'], ['he', 'wears', 'pants', 'wollen', 'pajamas', 'night', 'tom', 'stopped', 'open', 'door'], ['he', 'great', 'guy', 'wollen', 'pajamas', 'carries', 'pen', 'hand']]\n"
     ]
    }
   ],
   "source": [
    "#Removing blank spaces\n",
    "final_tweet=[]\n",
    "for cur_list in filtered_tweet_list:\n",
    "    temp_list=[]\n",
    "    temp_list = [w for w in cur_list if w]\n",
    "    final_tweet.append(temp_list)\n",
    "print(final_tweet)"
   ]
  },
  {
   "cell_type": "code",
   "execution_count": 10,
   "metadata": {},
   "outputs": [],
   "source": [
    "#Applying WordNetLemmatizer\n",
    "from nltk.stem import WordNetLemmatizer\n",
    "from nltk import pos_tag"
   ]
  },
  {
   "cell_type": "code",
   "execution_count": 11,
   "metadata": {},
   "outputs": [
    {
     "name": "stdout",
     "output_type": "stream",
     "text": [
      "[[('he', 'PRP'), ('took', 'VBD'), ('clothes', 'NNS'), ('stopped', 'VBD'), ('put', 'VB'), ('wollen', 'CD'), ('pajamas', 'NN')], [('he', 'PRP'), ('wearing', 'VBG'), ('wollen', 'JJ'), ('pajamas', 'NN'), ('opened', 'VBD'), ('door', 'NN')], [('he', 'PRP'), ('likes', 'VBZ'), ('sleep', 'JJ'), ('shorts', 'NNS'), ('i', 'NN'), ('prefer', 'VBP'), ('wear', 'JJ'), ('wollen', 'CD'), ('pajamas', 'NN')], [('when', 'WRB'), ('i', 'NN'), ('stopped', 'VBD'), ('morning', 'NN'), ('tom', 'NN'), ('still', 'RB'), ('cotton', 'VBZ'), ('pajamas', 'NN')], [('he', 'PRP'), ('wears', 'VBZ'), ('pants', 'NNS'), ('wollen', 'WRB'), ('pajamas', 'NN'), ('night', 'NN'), ('tom', 'NN'), ('stopped', 'VBD'), ('open', 'JJ'), ('door', 'NN')], [('he', 'PRP'), ('great', 'JJ'), ('guy', 'JJ'), ('wollen', 'NN'), ('pajamas', 'NN'), ('carries', 'VBZ'), ('pen', 'JJ'), ('hand', 'NN')]]\n"
     ]
    }
   ],
   "source": [
    "tagged_tweets=[]\n",
    "for cur_lst in final_tweet:\n",
    "    tagged_tweets.append(pos_tag(cur_lst))\n",
    "print(tagged_tweets)"
   ]
  },
  {
   "cell_type": "code",
   "execution_count": 12,
   "metadata": {},
   "outputs": [
    {
     "name": "stdout",
     "output_type": "stream",
     "text": [
      "[['he', 'take', 'clothes', 'stop', 'put', 'wollen', 'pajama'], ['he', 'wear', 'wollen', 'pajama', 'open', 'door'], ['he', 'like', 'sleep', 'short', 'i', 'prefer', 'wear', 'wollen', 'pajama'], ['when', 'i', 'stop', 'morning', 'tom', 'still', 'cotton', 'pajama'], ['he', 'wear', 'pant', 'wollen', 'pajama', 'night', 'tom', 'stop', 'open', 'door'], ['he', 'great', 'guy', 'wollen', 'pajama', 'carry', 'pen', 'hand']]\n"
     ]
    }
   ],
   "source": [
    "wnlm = WordNetLemmatizer()\n",
    "def convert_big_tags(t):\n",
    "    if t=='vbd' or t=='vbg' or t=='vbz' or t=='vbp' or t=='vbn':\n",
    "        return 'v'\n",
    "    elif t == 'jj' or t == 'jjr' or t=='jjs':\n",
    "        return 'a'\n",
    "    elif t == 'rb' or t=='rbr' or t=='rbs':\n",
    "        return 'r'\n",
    "    else:\n",
    "        return 'n'\n",
    "lemmatized_tweets=[]\n",
    "for cur_tweet in tagged_tweets:\n",
    "    temp_tweets=[]\n",
    "    for word in cur_tweet:\n",
    "        new_tag = convert_big_tags(word[1].lower())\n",
    "        output = wnlm.lemmatize(word[0], new_tag)\n",
    "        temp_tweets.append(output)\n",
    "    lemmatized_tweets.append(temp_tweets)\n",
    "print(lemmatized_tweets)"
   ]
  },
  {
   "cell_type": "code",
   "execution_count": 13,
   "metadata": {},
   "outputs": [
    {
     "name": "stdout",
     "output_type": "stream",
     "text": [
      "['he take clothes stop put wollen pajama', 'he wear wollen pajama open door', 'he like sleep short i prefer wear wollen pajama', 'when i stop morning tom still cotton pajama', 'he wear pant wollen pajama night tom stop open door', 'he great guy wollen pajama carry pen hand']\n"
     ]
    }
   ],
   "source": [
    "#Joining elements of each list to create a new single list \n",
    "final_output = []\n",
    "for ele in lemmatized_tweets:\n",
    "    string_join = ' '.join(ele)\n",
    "    final_output.append(string_join)\n",
    "print(final_output)"
   ]
  },
  {
   "cell_type": "code",
   "execution_count": 14,
   "metadata": {},
   "outputs": [
    {
     "data": {
      "text/plain": [
       "{'target1': 'he take clothes stop put wollen pajama',\n",
       " 'target2': 'he wear wollen pajama open door',\n",
       " 'target3': 'he like sleep short i prefer wear wollen pajama',\n",
       " 'target4': 'when i stop morning tom still cotton pajama',\n",
       " 'target5': 'he wear pant wollen pajama night tom stop open door',\n",
       " 'target6': 'he great guy wollen pajama carry pen hand'}"
      ]
     },
     "execution_count": 14,
     "metadata": {},
     "output_type": "execute_result"
    }
   ],
   "source": [
    "keys= list(keys)\n",
    "for i in range(0,len(final_output)):\n",
    "    target_dic[keys[i]] = final_output[i]\n",
    "target_dic"
   ]
  },
  {
   "cell_type": "code",
   "execution_count": 44,
   "metadata": {},
   "outputs": [],
   "source": [
    "def JaccardDistance(str1,str2):\n",
    "    set1 = set(str1.split())\n",
    "    set2 = set(str2.split())\n",
    "    jaccardIndex = float(len(set1 & set2))/ len(set1 | set2)\n",
    "    jaccardDist = 1-jaccardIndex\n",
    "    return round(jaccardDist,2)"
   ]
  },
  {
   "cell_type": "code",
   "execution_count": 46,
   "metadata": {},
   "outputs": [
    {
     "data": {
      "text/html": [
       "<div>\n",
       "<style scoped>\n",
       "    .dataframe tbody tr th:only-of-type {\n",
       "        vertical-align: middle;\n",
       "    }\n",
       "\n",
       "    .dataframe tbody tr th {\n",
       "        vertical-align: top;\n",
       "    }\n",
       "\n",
       "    .dataframe thead th {\n",
       "        text-align: right;\n",
       "    }\n",
       "</style>\n",
       "<table border=\"1\" class=\"dataframe\">\n",
       "  <thead>\n",
       "    <tr style=\"text-align: right;\">\n",
       "      <th></th>\n",
       "      <th>d1</th>\n",
       "      <th>d2</th>\n",
       "      <th>d3</th>\n",
       "      <th>d4</th>\n",
       "      <th>d5</th>\n",
       "      <th>d6</th>\n",
       "    </tr>\n",
       "  </thead>\n",
       "  <tbody>\n",
       "    <tr>\n",
       "      <td>d1</td>\n",
       "      <td>0.00</td>\n",
       "      <td>0.70</td>\n",
       "      <td>0.77</td>\n",
       "      <td>0.85</td>\n",
       "      <td>0.69</td>\n",
       "      <td>0.75</td>\n",
       "    </tr>\n",
       "    <tr>\n",
       "      <td>d2</td>\n",
       "      <td>0.70</td>\n",
       "      <td>0.00</td>\n",
       "      <td>0.64</td>\n",
       "      <td>0.92</td>\n",
       "      <td>0.40</td>\n",
       "      <td>0.73</td>\n",
       "    </tr>\n",
       "    <tr>\n",
       "      <td>d3</td>\n",
       "      <td>0.77</td>\n",
       "      <td>0.64</td>\n",
       "      <td>0.00</td>\n",
       "      <td>0.87</td>\n",
       "      <td>0.73</td>\n",
       "      <td>0.79</td>\n",
       "    </tr>\n",
       "    <tr>\n",
       "      <td>d4</td>\n",
       "      <td>0.85</td>\n",
       "      <td>0.92</td>\n",
       "      <td>0.87</td>\n",
       "      <td>0.00</td>\n",
       "      <td>0.80</td>\n",
       "      <td>0.93</td>\n",
       "    </tr>\n",
       "    <tr>\n",
       "      <td>d5</td>\n",
       "      <td>0.69</td>\n",
       "      <td>0.40</td>\n",
       "      <td>0.73</td>\n",
       "      <td>0.80</td>\n",
       "      <td>0.00</td>\n",
       "      <td>0.80</td>\n",
       "    </tr>\n",
       "    <tr>\n",
       "      <td>d6</td>\n",
       "      <td>0.75</td>\n",
       "      <td>0.73</td>\n",
       "      <td>0.79</td>\n",
       "      <td>0.93</td>\n",
       "      <td>0.80</td>\n",
       "      <td>0.00</td>\n",
       "    </tr>\n",
       "  </tbody>\n",
       "</table>\n",
       "</div>"
      ],
      "text/plain": [
       "      d1    d2    d3    d4    d5    d6\n",
       "d1  0.00  0.70  0.77  0.85  0.69  0.75\n",
       "d2  0.70  0.00  0.64  0.92  0.40  0.73\n",
       "d3  0.77  0.64  0.00  0.87  0.73  0.79\n",
       "d4  0.85  0.92  0.87  0.00  0.80  0.93\n",
       "d5  0.69  0.40  0.73  0.80  0.00  0.80\n",
       "d6  0.75  0.73  0.79  0.93  0.80  0.00"
      ]
     },
     "execution_count": 46,
     "metadata": {},
     "output_type": "execute_result"
    }
   ],
   "source": [
    "distance = []\n",
    "for i in range(1,7):\n",
    "    temp = []\n",
    "    for j in range(1,7):\n",
    "        if(i!=j):\n",
    "            target1 = \"target\"+str(i)\n",
    "            target2 = \"target\"+str(j)\n",
    "            temp.append(JaccardDistance(target_dic[target1],target_dic[target2]))\n",
    "        else:\n",
    "            temp.append(0)\n",
    "    distance.append(temp)\n",
    "            \n",
    "jaccardSimilarityMatrix=pd.DataFrame(distance, index = ['d1','d2','d3','d4','d5','d6'], columns= ['d1','d2','d3','d4','d5','d6'])\n",
    "jaccardSimilarityMatrix"
   ]
  },
  {
   "cell_type": "markdown",
   "metadata": {},
   "source": [
    "## Measuring Similarity using Cosine Similarity"
   ]
  },
  {
   "cell_type": "code",
   "execution_count": 18,
   "metadata": {},
   "outputs": [
    {
     "name": "stdout",
     "output_type": "stream",
     "text": [
      ".........Loading docs.....\n",
      "d1 {'surrender': 0.4771, 'other': 0.4771, 'propensity': 0.1761, 'hindering': 0.4771, 'habits': 0.1761, 'for': 0.4771}\n",
      "d2 {'propensity': 0.1761, 'difficult': 0.4771, 'dies': 0.1761}\n",
      "d3 {'bad': 0.4771, 'acquire': 0.4771, 'habits': 0.1761, 'dies': 0.1761, 'easily': 0.4771}\n",
      "\n",
      "\n",
      "Cosine:  [0.058, 0.036, 0.067]\n"
     ]
    },
    {
     "data": {
      "text/html": [
       "<div>\n",
       "<style scoped>\n",
       "    .dataframe tbody tr th:only-of-type {\n",
       "        vertical-align: middle;\n",
       "    }\n",
       "\n",
       "    .dataframe tbody tr th {\n",
       "        vertical-align: top;\n",
       "    }\n",
       "\n",
       "    .dataframe thead th {\n",
       "        text-align: right;\n",
       "    }\n",
       "</style>\n",
       "<table border=\"1\" class=\"dataframe\">\n",
       "  <thead>\n",
       "    <tr style=\"text-align: right;\">\n",
       "      <th></th>\n",
       "      <th>Cosine-Similarity</th>\n",
       "    </tr>\n",
       "  </thead>\n",
       "  <tbody>\n",
       "    <tr>\n",
       "      <td>d1-d2</td>\n",
       "      <td>0.058</td>\n",
       "    </tr>\n",
       "    <tr>\n",
       "      <td>d1-d3</td>\n",
       "      <td>0.036</td>\n",
       "    </tr>\n",
       "    <tr>\n",
       "      <td>d2-d3</td>\n",
       "      <td>0.067</td>\n",
       "    </tr>\n",
       "  </tbody>\n",
       "</table>\n",
       "</div>"
      ],
      "text/plain": [
       "       Cosine-Similarity\n",
       "d1-d2              0.058\n",
       "d1-d3              0.036\n",
       "d2-d3              0.067"
      ]
     },
     "execution_count": 18,
     "metadata": {},
     "output_type": "execute_result"
    }
   ],
   "source": [
    "#cosine\n",
    "import re, math\n",
    "import pandas as pd\n",
    "from collections import Counter\n",
    "vector_dict = {}\n",
    "\n",
    "def load_docs():\n",
    "    print ('.........Loading docs.....')\n",
    "    doc1 = ('d1','Surrender this propensity for hindering other habits')\n",
    "    doc2 = ('d2', 'Propensity dies on difficult')\n",
    "    doc3 = ('d3', 'How easily we acquire bad habits dies')\n",
    "    return [doc1,doc2,doc3]\n",
    "\n",
    "def process_docs(all_dcs):\n",
    "    #[('d1', 'Give up this habit of interrupting other'), ('d2', 'Habit dies hard.'),\n",
    "    #('d3', 'How easily we acquire bad habits dies')]\n",
    "    stop_words = ['of','and','on','in','up','this','we','How']\n",
    "    all_words = []\n",
    "    counts_dict = {}\n",
    "    for doc in all_dcs:\n",
    "        words = [x.lower() for x in doc[1].split() if x not in stop_words]\n",
    "        words_counted = Counter(words)\n",
    "        #print(\"Words counted:\",words_counted)\n",
    "        unique_words =list(words_counted.keys())\n",
    "        counts_dict[doc[0]] = words_counted\n",
    "        #print (\"Here\",counts_dict)\n",
    "        all_words = all_words + unique_words\n",
    "        #print (all_words)\n",
    "    n = len(counts_dict)\n",
    "    df_count = Counter(all_words)\n",
    "    #print (\"**=>\",counts_dict)\n",
    "    compute_vector_len(counts_dict, n, df_count)\n",
    "    \n",
    "\n",
    "def compute_vector_len(doc_dict,no, df_counts):\n",
    "    global vector_dict\n",
    "    for doc_name in doc_dict:\n",
    "        doc_words = doc_dict[doc_name].keys()\n",
    "        #print (\"**=>\",doc_words)\n",
    "        wd_tfidf_scores = {}\n",
    "        for wd in list(set(doc_words)):\n",
    "            #print (\"**=>\",wd)\n",
    "            wds_cts = doc_dict[doc_name]\n",
    "            #print (\"**=>\",wds_cts)\n",
    "            wd_tf_idf = wds_cts[wd] * math.log(no / df_counts[wd], 10)\n",
    "            #print (\"**=>\",wd_tf_idf)\n",
    "            wd_tfidf_scores[wd] = round(wd_tf_idf, 4)\n",
    "            #print (\"**=>\",wd_tfidf_scores)\n",
    "        vector_dict[doc_name] =wd_tfidf_scores\n",
    "    #print(vector_dict)\n",
    "        \n",
    "def get_cosine(text1,text2):\n",
    "    vec1 = vector_dict[text1]\n",
    "    vec2 = vector_dict[text2]\n",
    "    intersection = set(vec1.keys()) & set(vec2.keys())\n",
    "    numerator = sum([vec1[x] * vec2[x] for x in intersection])\n",
    "    sum1 = sum([vec1[x] ** 2 for x in vec1.keys()])\n",
    "    sum2 = sum([vec2[x] ** 2 for x in vec2.keys()])\n",
    "    denominator = math.sqrt(sum1) * math.sqrt(sum2)\n",
    "    if not denominator:\n",
    "        return 0.0\n",
    "    else:\n",
    "        return round(float(numerator/ denominator), 3)\n",
    "\n",
    "all_docs = load_docs()\n",
    "#print (all_docs)\n",
    "process_docs(all_docs)\n",
    "\n",
    "for keys,value in vector_dict.items():print(keys,value)\n",
    "    \n",
    "cos_list = []\n",
    "text1 = 'd1'\n",
    "text2 = 'd2'\n",
    "text3 = 'd3'\n",
    "\n",
    "cosine = get_cosine(text1,text2)\n",
    "#print(cosine)\n",
    "cos_list.append(cosine)\n",
    "cos_list.append(get_cosine(text1,text3))\n",
    "cos_list.append(get_cosine(text3,text2))\n",
    "print(\"\\n\")\n",
    "print('Cosine: ', cos_list)\n",
    "\n",
    "pairs=['d1-d2','d1-d3','d2-d3']\n",
    "\n",
    "pd.DataFrame(cos_list, index=pairs, columns=['Cosine-Similarity'])"
   ]
  },
  {
   "cell_type": "code",
   "execution_count": 20,
   "metadata": {},
   "outputs": [
    {
     "name": "stdout",
     "output_type": "stream",
     "text": [
      ".........Loading docs.....\n",
      "d1 {'surrender': 0.9031, 'other': 0.9031, 'propensity': 0.6021, 'hindering': 0.9031, 'habits': 0.426, 'for': 0.9031}\n",
      "d2 {'propensity': 0.6021, 'difficult': 0.9031, 'dies': 0.6021}\n",
      "d3 {'bad': 0.301, 'acquire': 0.426, 'habits': 0.426, 'dies': 0.6021, 'easily': 0.9031}\n",
      "d4 {'bad': 0.301, 'straightforwardly': 0.9031, 'routine': 0.6021, 'obtain': 0.9031, 'pass': 0.9031, 'away': 0.6021}\n",
      "d5 {'acquire': 0.426, 'practice': 0.6021, 'poor': 0.6021, 'simply': 0.6021, 'what': 0.6021, 'ends': 0.6021, 'approach': 0.9031}\n",
      "d6 {'bad': 0.301, 'to': 0.9031, 'acquire': 0.426, 'habits': 0.426, 'giving': 0.9031, 'ones': 0.9031, 'good': 0.9031, 'the': 0.9031}\n",
      "d7 {'learn': 0.9031, 'method': 0.9031, 'practice': 0.6021, 'poor': 0.6021, 'simply': 0.6021, 'what': 0.6021, 'ends': 0.6021}\n",
      "d8 {'bad': 0.301, 'getting': 0.9031, 'from': 0.9031, 'routine': 0.6021, 'away': 0.6021, 'clear': 0.9031}\n",
      "Cosine New [0.073, 0.229, 0.039, 0.085, 0.167, 0.0, 0.039]\n"
     ]
    },
    {
     "data": {
      "text/plain": [
       "[('d3', 'd1'),\n",
       " ('d3', 'd2'),\n",
       " ('d3', 'd4'),\n",
       " ('d3', 'd5'),\n",
       " ('d3', 'd6'),\n",
       " ('d3', 'd7'),\n",
       " ('d3', 'd8')]"
      ]
     },
     "execution_count": 20,
     "metadata": {},
     "output_type": "execute_result"
    }
   ],
   "source": [
    "#cosine\n",
    "import re, math\n",
    "from collections import Counter\n",
    "vector_dict = {}\n",
    "\n",
    "def load_docs():\n",
    "    print ('.........Loading docs.....')\n",
    "    doc1 = ('d1','Surrender this propensity for hindering other habits')\n",
    "    doc2 = ('d2', 'Propensity dies on difficult')\n",
    "    doc3 = ('d3','How easily we acquire bad habits dies')\n",
    "    #Variation of d3 document\n",
    "    doc4 = ('d4','How straightforwardly we obtain bad routine pass away')\n",
    "    doc5 = ('d5','What approach simply we acquire poor practice ends')\n",
    "    doc6 = ('d6','Giving up the bad habits to acquire good ones')\n",
    "    doc7 = ('d7','What method we learn simply ends in poor practice')\n",
    "    doc8 = ('d8','How clear we are getting away from bad routine')\n",
    "    \n",
    "    return [doc1,doc2,doc3,doc4,doc5,doc6,doc7,doc8]\n",
    "\n",
    "def process_docs(all_dcs):\n",
    "    #[('d1', 'Give up this habit of interrupting other'), ('d2', 'Habit dies hard.'),\n",
    "    #('d3', 'How easily we acquire bad habits dies')]\n",
    "    stop_words = ['of','and','on','in','up','this','we','How','are']\n",
    "    all_words = []\n",
    "    counts_dict = {}\n",
    "    for doc in all_dcs:\n",
    "        words = [x.lower() for x in doc[1].split() if x not in stop_words]\n",
    "        words_counted = Counter(words)\n",
    "        #print(\"Words counted:\",words_counted)\n",
    "        unique_words =list(words_counted.keys())\n",
    "        counts_dict[doc[0]] = words_counted\n",
    "        #print (\"Here\",counts_dict)\n",
    "        all_words = all_words + unique_words\n",
    "        #print (all_words)\n",
    "    n = len(counts_dict)\n",
    "    df_count = Counter(all_words)\n",
    "    #print (\"**=>\",counts_dict)\n",
    "    compute_vector_len(counts_dict, n, df_count)\n",
    "    \n",
    "\n",
    "def compute_vector_len(doc_dict,no, df_counts):\n",
    "    global vector_dict\n",
    "    for doc_name in doc_dict:\n",
    "        doc_words = doc_dict[doc_name].keys()\n",
    "        #print (\"**=>\",doc_words)\n",
    "        wd_tfidf_scores = {}\n",
    "        for wd in list(set(doc_words)):\n",
    "            #print (\"**=>\",wd)\n",
    "            wds_cts = doc_dict[doc_name]\n",
    "            #print (\"**=>\",wds_cts)\n",
    "            wd_tf_idf = wds_cts[wd] * math.log(no / df_counts[wd], 10)\n",
    "            #print (\"**=>\",wd_tf_idf)\n",
    "            wd_tfidf_scores[wd] = round(wd_tf_idf, 4)\n",
    "            #print (\"**=>\",wd_tfidf_scores)\n",
    "        vector_dict[doc_name] =wd_tfidf_scores\n",
    "    #print(vector_dict)\n",
    "        \n",
    "def get_cosine(text1,text2):\n",
    "    vec1 = vector_dict[text1]\n",
    "    vec2 = vector_dict[text2]\n",
    "    intersection = set(vec1.keys()) & set(vec2.keys())\n",
    "    numerator = sum([vec1[x] * vec2[x] for x in intersection])\n",
    "    sum1 = sum([vec1[x] ** 2 for x in vec1.keys()])\n",
    "    sum2 = sum([vec2[x] ** 2 for x in vec2.keys()])\n",
    "    denominator = math.sqrt(sum1) * math.sqrt(sum2)\n",
    "    if not denominator:\n",
    "        return 0.0\n",
    "    else:\n",
    "        return round(float(numerator/ denominator), 3)\n",
    "\n",
    "all_docs = load_docs()\n",
    "#print (all_docs)\n",
    "process_docs(all_docs)\n",
    "\n",
    "for keys,value in vector_dict.items():print(keys,value)\n",
    "    \n",
    "cos_list = []\n",
    "\n",
    "#create cosine list\n",
    "for i in range(1,9):\n",
    "    for j in range((i+1),9):\n",
    "        text1 = \"d\"+str(i)\n",
    "        text2 = \"d\"+str(j)\n",
    "        cos_list.append(get_cosine(text1,text2))\n",
    "\n",
    "#print('Cosine: ', cos_list)\n",
    "#cosine list for d3 with rest of the texts\n",
    "cosine_new=[]\n",
    "docs_name=[]\n",
    "for i in range(1,9):\n",
    "    if i!=3:\n",
    "        text1 = \"d\"+str(i)\n",
    "        docs_name.append(('d3',text1))\n",
    "        cosine_new.append(get_cosine('d3',text1))\n",
    "print('Cosine New', cosine_new)\n",
    "docs_name"
   ]
  },
  {
   "cell_type": "code",
   "execution_count": 49,
   "metadata": {},
   "outputs": [
    {
     "data": {
      "text/html": [
       "<div>\n",
       "<style scoped>\n",
       "    .dataframe tbody tr th:only-of-type {\n",
       "        vertical-align: middle;\n",
       "    }\n",
       "\n",
       "    .dataframe tbody tr th {\n",
       "        vertical-align: top;\n",
       "    }\n",
       "\n",
       "    .dataframe thead th {\n",
       "        text-align: right;\n",
       "    }\n",
       "</style>\n",
       "<table border=\"1\" class=\"dataframe\">\n",
       "  <thead>\n",
       "    <tr style=\"text-align: right;\">\n",
       "      <th></th>\n",
       "      <th>Cosine-Similarity</th>\n",
       "    </tr>\n",
       "  </thead>\n",
       "  <tbody>\n",
       "    <tr>\n",
       "      <td>dis1_2</td>\n",
       "      <td>0.150</td>\n",
       "    </tr>\n",
       "    <tr>\n",
       "      <td>dis1_3</td>\n",
       "      <td>0.073</td>\n",
       "    </tr>\n",
       "    <tr>\n",
       "      <td>dis1_4</td>\n",
       "      <td>0.000</td>\n",
       "    </tr>\n",
       "    <tr>\n",
       "      <td>dis1_5</td>\n",
       "      <td>0.000</td>\n",
       "    </tr>\n",
       "    <tr>\n",
       "      <td>dis1_6</td>\n",
       "      <td>0.044</td>\n",
       "    </tr>\n",
       "    <tr>\n",
       "      <td>dis1_7</td>\n",
       "      <td>0.000</td>\n",
       "    </tr>\n",
       "    <tr>\n",
       "      <td>dis1_8</td>\n",
       "      <td>0.000</td>\n",
       "    </tr>\n",
       "    <tr>\n",
       "      <td>dis2_3</td>\n",
       "      <td>0.229</td>\n",
       "    </tr>\n",
       "    <tr>\n",
       "      <td>dis2_4</td>\n",
       "      <td>0.000</td>\n",
       "    </tr>\n",
       "    <tr>\n",
       "      <td>dis2_5</td>\n",
       "      <td>0.000</td>\n",
       "    </tr>\n",
       "    <tr>\n",
       "      <td>dis2_6</td>\n",
       "      <td>0.000</td>\n",
       "    </tr>\n",
       "    <tr>\n",
       "      <td>dis2_7</td>\n",
       "      <td>0.000</td>\n",
       "    </tr>\n",
       "    <tr>\n",
       "      <td>dis2_8</td>\n",
       "      <td>0.000</td>\n",
       "    </tr>\n",
       "    <tr>\n",
       "      <td>dis3_4</td>\n",
       "      <td>0.039</td>\n",
       "    </tr>\n",
       "    <tr>\n",
       "      <td>dis3_5</td>\n",
       "      <td>0.085</td>\n",
       "    </tr>\n",
       "    <tr>\n",
       "      <td>dis3_6</td>\n",
       "      <td>0.167</td>\n",
       "    </tr>\n",
       "    <tr>\n",
       "      <td>dis3_7</td>\n",
       "      <td>0.000</td>\n",
       "    </tr>\n",
       "    <tr>\n",
       "      <td>dis3_8</td>\n",
       "      <td>0.039</td>\n",
       "    </tr>\n",
       "    <tr>\n",
       "      <td>dis4_5</td>\n",
       "      <td>0.000</td>\n",
       "    </tr>\n",
       "    <tr>\n",
       "      <td>dis4_6</td>\n",
       "      <td>0.024</td>\n",
       "    </tr>\n",
       "    <tr>\n",
       "      <td>dis4_7</td>\n",
       "      <td>0.000</td>\n",
       "    </tr>\n",
       "    <tr>\n",
       "      <td>dis4_8</td>\n",
       "      <td>0.250</td>\n",
       "    </tr>\n",
       "    <tr>\n",
       "      <td>dis5_6</td>\n",
       "      <td>0.051</td>\n",
       "    </tr>\n",
       "    <tr>\n",
       "      <td>dis5_7</td>\n",
       "      <td>0.583</td>\n",
       "    </tr>\n",
       "    <tr>\n",
       "      <td>dis5_8</td>\n",
       "      <td>0.000</td>\n",
       "    </tr>\n",
       "    <tr>\n",
       "      <td>dis6_7</td>\n",
       "      <td>0.000</td>\n",
       "    </tr>\n",
       "    <tr>\n",
       "      <td>dis6_8</td>\n",
       "      <td>0.024</td>\n",
       "    </tr>\n",
       "    <tr>\n",
       "      <td>dis7_8</td>\n",
       "      <td>0.000</td>\n",
       "    </tr>\n",
       "  </tbody>\n",
       "</table>\n",
       "</div>"
      ],
      "text/plain": [
       "        Cosine-Similarity\n",
       "dis1_2              0.150\n",
       "dis1_3              0.073\n",
       "dis1_4              0.000\n",
       "dis1_5              0.000\n",
       "dis1_6              0.044\n",
       "dis1_7              0.000\n",
       "dis1_8              0.000\n",
       "dis2_3              0.229\n",
       "dis2_4              0.000\n",
       "dis2_5              0.000\n",
       "dis2_6              0.000\n",
       "dis2_7              0.000\n",
       "dis2_8              0.000\n",
       "dis3_4              0.039\n",
       "dis3_5              0.085\n",
       "dis3_6              0.167\n",
       "dis3_7              0.000\n",
       "dis3_8              0.039\n",
       "dis4_5              0.000\n",
       "dis4_6              0.024\n",
       "dis4_7              0.000\n",
       "dis4_8              0.250\n",
       "dis5_6              0.051\n",
       "dis5_7              0.583\n",
       "dis5_8              0.000\n",
       "dis6_7              0.000\n",
       "dis6_8              0.024\n",
       "dis7_8              0.000"
      ]
     },
     "execution_count": 49,
     "metadata": {},
     "output_type": "execute_result"
    }
   ],
   "source": [
    "all_pair_dist={}\n",
    "for i in range(1,9):\n",
    "    for j in range((i+1),9):\n",
    "        var = \"dis\"+str(i)+\"_\"+str(j)\n",
    "        text1 = \"d\"+str(i)\n",
    "        text2 = \"d\"+str(j)\n",
    "        all_pair_dist[var] = get_cosine(text1,text2)\n",
    "        \n",
    "all_pair_dist\n",
    "\n",
    "keys= list(all_pair_dist.keys())\n",
    "values = list(all_pair_dist.values())\n",
    "pd.DataFrame(values,index=keys,columns=['Cosine-Similarity'])"
   ]
  },
  {
   "cell_type": "code",
   "execution_count": 50,
   "metadata": {},
   "outputs": [
    {
     "data": {
      "text/plain": [
       "['d3_d1', 'd3_d2', 'd3_d4', 'd3_d5', 'd3_d6', 'd3_d7', 'd3_d8']"
      ]
     },
     "execution_count": 50,
     "metadata": {},
     "output_type": "execute_result"
    }
   ],
   "source": [
    "pairs = [] \n",
    "for ele in docs_name:\n",
    "    x = \"_\".join(ele)\n",
    "    pairs.append(x)\n",
    "pairs"
   ]
  },
  {
   "cell_type": "code",
   "execution_count": 23,
   "metadata": {},
   "outputs": [
    {
     "data": {
      "text/html": [
       "<div>\n",
       "<style scoped>\n",
       "    .dataframe tbody tr th:only-of-type {\n",
       "        vertical-align: middle;\n",
       "    }\n",
       "\n",
       "    .dataframe tbody tr th {\n",
       "        vertical-align: top;\n",
       "    }\n",
       "\n",
       "    .dataframe thead th {\n",
       "        text-align: right;\n",
       "    }\n",
       "</style>\n",
       "<table border=\"1\" class=\"dataframe\">\n",
       "  <thead>\n",
       "    <tr style=\"text-align: right;\">\n",
       "      <th></th>\n",
       "      <th>Cosine-Similarity</th>\n",
       "    </tr>\n",
       "  </thead>\n",
       "  <tbody>\n",
       "    <tr>\n",
       "      <td>d3_d1</td>\n",
       "      <td>0.073</td>\n",
       "    </tr>\n",
       "    <tr>\n",
       "      <td>d3_d2</td>\n",
       "      <td>0.229</td>\n",
       "    </tr>\n",
       "    <tr>\n",
       "      <td>d3_d4</td>\n",
       "      <td>0.039</td>\n",
       "    </tr>\n",
       "    <tr>\n",
       "      <td>d3_d5</td>\n",
       "      <td>0.085</td>\n",
       "    </tr>\n",
       "    <tr>\n",
       "      <td>d3_d6</td>\n",
       "      <td>0.167</td>\n",
       "    </tr>\n",
       "    <tr>\n",
       "      <td>d3_d7</td>\n",
       "      <td>0.000</td>\n",
       "    </tr>\n",
       "    <tr>\n",
       "      <td>d3_d8</td>\n",
       "      <td>0.039</td>\n",
       "    </tr>\n",
       "  </tbody>\n",
       "</table>\n",
       "</div>"
      ],
      "text/plain": [
       "       Cosine-Similarity\n",
       "d3_d1              0.073\n",
       "d3_d2              0.229\n",
       "d3_d4              0.039\n",
       "d3_d5              0.085\n",
       "d3_d6              0.167\n",
       "d3_d7              0.000\n",
       "d3_d8              0.039"
      ]
     },
     "execution_count": 23,
     "metadata": {},
     "output_type": "execute_result"
    }
   ],
   "source": [
    "pd.DataFrame(cosine_new,index=pairs,columns=['Cosine-Similarity'])"
   ]
  },
  {
   "cell_type": "code",
   "execution_count": 25,
   "metadata": {},
   "outputs": [
    {
     "data": {
      "image/png": "[encoded data removed]",
      "text/plain": [
       "<Figure size 600x300 with 1 Axes>"
      ]
     },
     "metadata": {
      "needs_background": "light"
     },
     "output_type": "display_data"
    }
   ],
   "source": [
    "import matplotlib.pyplot as plt\n",
    "plt.figure(figsize=(4,2),dpi=150)\n",
    "plt.bar(pairs, height=cosine_new)\n",
    "plt.plot(pairs,cosine_new, color='red')\n",
    "plt.xticks(rotation='vertical')\n",
    "plt.xlabel('Pairs')\n",
    "plt.ylabel('Cosine Score')\n",
    "plt.title('Cosine score for Each pair')\n",
    "plt.show()"
   ]
  },
  {
   "cell_type": "code",
   "execution_count": 51,
   "metadata": {},
   "outputs": [],
   "source": [
    "#Obtained after applying cosine similarity.\n",
    "data={\n",
    "'d1':{'surrender': 0.9031, 'other': 0.9031, 'propensity': 0.6021, 'hindering': 0.9031, 'habits': 0.426, 'for': 0.9031},\n",
    "'d2': {'propensity': 0.6021, 'difficult': 0.9031, 'dies': 0.6021},\n",
    "'d3': {'bad': 0.301, 'acquire': 0.426, 'habits': 0.426, 'dies': 0.6021, 'easily': 0.9031},\n",
    "'d4': {'bad': 0.301, 'straightforwardly': 0.9031, 'routine': 0.6021, 'obtain': 0.9031, 'pass': 0.9031, 'away': 0.6021},\n",
    "'d5': {'acquire': 0.426, 'practice': 0.6021, 'poor': 0.6021, 'simply': 0.6021, 'what': 0.6021, 'ends': 0.6021, 'approach': 0.9031},\n",
    "'d6': {'bad': 0.301, 'to': 0.9031, 'acquire': 0.426, 'habits': 0.426, 'giving': 0.9031, 'ones': 0.9031, 'good': 0.9031, 'the': 0.9031},\n",
    "'d7': {'learn': 0.9031, 'method': 0.9031, 'practice': 0.6021, 'poor': 0.6021, 'simply': 0.6021, 'what': 0.6021, 'ends': 0.6021},\n",
    "'d8': {'bad': 0.301, 'getting': 0.9031, 'from': 0.9031, 'routine': 0.6021, 'away': 0.6021, 'clear': 0.9031}\n",
    "}"
   ]
  },
  {
   "cell_type": "code",
   "execution_count": 52,
   "metadata": {},
   "outputs": [
    {
     "data": {
      "text/plain": [
       "['surrender other propensity hindering habits for',\n",
       " 'propensity difficult dies',\n",
       " 'bad acquire habits dies easily',\n",
       " 'bad straightforwardly routine obtain pass away',\n",
       " 'acquire practice poor simply what ends approach',\n",
       " 'bad to acquire habits giving ones good the',\n",
       " 'learn method practice poor simply what ends',\n",
       " 'bad getting from routine away clear']"
      ]
     },
     "execution_count": 52,
     "metadata": {},
     "output_type": "execute_result"
    }
   ],
   "source": [
    "sen_list = []\n",
    "for k in data:\n",
    "    sen_list.append(' '.join(data[k].keys()))\n",
    "sen_list"
   ]
  },
  {
   "cell_type": "code",
   "execution_count": 53,
   "metadata": {},
   "outputs": [
    {
     "name": "stdout",
     "output_type": "stream",
     "text": [
      "[[0 0 0 0 0 0 0 0 0 0 0 0 1 1 0 0 0 0 0 0 0 1 0 0 0 1]\n",
      " [0 0 0 0 0 1 1 0 0 0 0 0 0 0 0 0 0 0 0 0 0 1 0 0 0 0]\n",
      " [1 0 0 1 0 1 0 1 0 0 0 0 1 0 0 0 0 0 0 0 0 0 0 0 0 0]\n",
      " [0 0 1 1 0 0 0 0 0 0 0 0 0 0 0 0 1 0 1 0 0 0 1 0 1 0]\n",
      " [1 1 0 0 0 0 0 0 1 0 0 0 0 0 0 0 0 0 0 1 1 0 0 1 0 0]\n",
      " [1 0 0 1 0 0 0 0 0 0 1 1 1 0 0 0 0 1 0 0 0 0 0 0 0 0]\n",
      " [0 0 0 0 0 0 0 0 1 0 0 0 0 0 1 1 0 0 0 1 1 0 0 1 0 0]\n",
      " [0 0 1 1 1 0 0 0 0 1 0 0 0 0 0 0 0 0 0 0 0 0 1 0 0 0]]\n"
     ]
    }
   ],
   "source": [
    "# Scikit Learn\n",
    "from sklearn.feature_extraction.text import CountVectorizer\n",
    "import pandas as pd\n",
    "\n",
    "# Create the Document Term Matrix\n",
    "count_vectorizer = CountVectorizer(stop_words='english')\n",
    "#count_vectorizer = CountVectorizer()\n",
    "sparse_matrix = count_vectorizer.fit_transform(sen_list)\n",
    "\n",
    "# OPTIONAL: We can visualise the sparse matrix in data frame to see word wise frequency\n",
    "doc_term_matrix = sparse_matrix.todense()\n",
    "#df = pd.DataFrame(doc_term_matrix, columns=count_vectorizer.get_feature_names(), index=['d1', 'd2', 'd3','d4','d5','d6','d7','d8'])\n",
    "#print(df)\n",
    "\n",
    "print(doc_term_matrix)"
   ]
  },
  {
   "cell_type": "code",
   "execution_count": 54,
   "metadata": {},
   "outputs": [
    {
     "name": "stdout",
     "output_type": "stream",
     "text": [
      "[[1.         0.28867513 0.2236068  0.         0.         0.20412415\n",
      "  0.         0.        ]\n",
      " [0.28867513 1.         0.25819889 0.         0.         0.\n",
      "  0.         0.        ]\n",
      " [0.2236068  0.25819889 1.         0.18257419 0.18257419 0.54772256\n",
      "  0.         0.2       ]\n",
      " [0.         0.         0.18257419 1.         0.         0.16666667\n",
      "  0.         0.54772256]\n",
      " [0.         0.         0.18257419 0.         1.         0.16666667\n",
      "  0.66666667 0.        ]\n",
      " [0.20412415 0.         0.54772256 0.16666667 0.16666667 1.\n",
      "  0.         0.18257419]\n",
      " [0.         0.         0.         0.         0.66666667 0.\n",
      "  1.         0.        ]\n",
      " [0.         0.         0.2        0.54772256 0.         0.18257419\n",
      "  0.         1.        ]]\n"
     ]
    }
   ],
   "source": [
    "from sklearn.metrics.pairwise import cosine_similarity\n",
    "from sklearn.metrics.pairwise import euclidean_distances\n",
    "cosine_list = cosine_similarity(doc_term_matrix)\n",
    "print(cosine_list)"
   ]
  },
  {
   "cell_type": "code",
   "execution_count": 55,
   "metadata": {},
   "outputs": [
    {
     "name": "stdout",
     "output_type": "stream",
     "text": [
      "[0.22360679774997896, 0.25819888974716115, 0.18257418583505539, 0.18257418583505539, 0.5477225575051662, 0.0, 0.19999999999999998]\n"
     ]
    },
    {
     "data": {
      "image/png": "[encoded data removed]",
      "text/plain": [
       "<Figure size 600x300 with 1 Axes>"
      ]
     },
     "metadata": {
      "needs_background": "light"
     },
     "output_type": "display_data"
    }
   ],
   "source": [
    "x_labels = [] \n",
    "for ele in docs_name:\n",
    "    x = \"_\".join(ele)\n",
    "    x_labels.append(x)\n",
    "\n",
    "lst = list(cosine_list[2])\n",
    "lst.pop(2)\n",
    "print(lst)\n",
    "plt.figure(figsize=(4,2),dpi=150)\n",
    "plt.bar(x_labels,height= lst, width = 0.8)\n",
    "plt.plot(x_labels,lst, color='red')\n",
    "plt.xticks(rotation='vertical')\n",
    "plt.xlabel('Pairs with respect to doc3')\n",
    "plt.ylabel('Cosine Similarity Score')\n",
    "plt.title('Pairs with Cosine Score')\n",
    "plt.show()"
   ]
  },
  {
   "cell_type": "code",
   "execution_count": 56,
   "metadata": {},
   "outputs": [
    {
     "data": {
      "text/plain": [
       "array([[0.        , 2.23606798, 2.64575131, 3.16227766, 3.16227766,\n",
       "        2.82842712, 3.16227766, 3.        ],\n",
       "       [2.23606798, 0.        , 2.44948974, 3.        , 3.        ,\n",
       "        3.        , 3.        , 2.82842712],\n",
       "       [2.64575131, 2.44948974, 0.        , 3.        , 3.        ,\n",
       "        2.23606798, 3.31662479, 2.82842712],\n",
       "       [3.16227766, 3.        , 3.        , 0.        , 3.46410162,\n",
       "        3.16227766, 3.46410162, 2.23606798],\n",
       "       [3.16227766, 3.        , 3.        , 3.46410162, 0.        ,\n",
       "        3.16227766, 2.        , 3.31662479],\n",
       "       [2.82842712, 3.        , 2.23606798, 3.16227766, 3.16227766,\n",
       "        0.        , 3.46410162, 3.        ],\n",
       "       [3.16227766, 3.        , 3.31662479, 3.46410162, 2.        ,\n",
       "        3.46410162, 0.        , 3.31662479],\n",
       "       [3.        , 2.82842712, 2.82842712, 2.23606798, 3.31662479,\n",
       "        3.        , 3.31662479, 0.        ]])"
      ]
     },
     "execution_count": 56,
     "metadata": {},
     "output_type": "execute_result"
    }
   ],
   "source": [
    "euclidean_dis_list = euclidean_distances(doc_term_matrix)\n",
    "euclidean_dis_list"
   ]
  },
  {
   "cell_type": "code",
   "execution_count": 57,
   "metadata": {},
   "outputs": [
    {
     "name": "stdout",
     "output_type": "stream",
     "text": [
      "[2.6457513110645907, 2.449489742783178, 3.0, 3.0, 2.23606797749979, 3.3166247903554, 2.8284271247461903]\n"
     ]
    },
    {
     "data": {
      "image/png": "[encoded data removed]",
      "text/plain": [
       "<Figure size 600x300 with 1 Axes>"
      ]
     },
     "metadata": {
      "needs_background": "light"
     },
     "output_type": "display_data"
    }
   ],
   "source": [
    "euc_lst = list(euclidean_dis_list[2])\n",
    "euc_lst.pop(2)\n",
    "print(euc_lst)\n",
    "\n",
    "plt.figure(figsize=(4,2),dpi=150)\n",
    "plt.bar(x_labels,height= euc_lst, width = 0.8)\n",
    "plt.plot(x_labels,euc_lst, color='red')\n",
    "plt.xticks(rotation='vertical')\n",
    "plt.xlabel('Pairs with respect to doc3')\n",
    "plt.ylabel('Euclidean distance Score')\n",
    "plt.title('Pairs with Euclidean Distance')\n",
    "plt.show()"
   ]
  },
  {
   "cell_type": "code",
   "execution_count": null,
   "metadata": {},
   "outputs": [],
   "source": []
  }
 ],
 "metadata": {
  "kernelspec": {
   "display_name": "Python 3",
   "language": "python",
   "name": "python3"
  },
  "language_info": {
   "codemirror_mode": {
    "name": "ipython",
    "version": 3
   },
   "file_extension": ".py",
   "mimetype": "text/x-python",
   "name": "python",
   "nbconvert_exporter": "python",
   "pygments_lexer": "ipython3",
   "version": "3.7.3"
  }
 },
 "nbformat": 4,
 "nbformat_minor": 2
}
